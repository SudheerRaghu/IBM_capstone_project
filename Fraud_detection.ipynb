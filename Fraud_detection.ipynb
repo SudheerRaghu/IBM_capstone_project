{
  "nbformat": 4,
  "nbformat_minor": 0,
  "metadata": {
    "kernelspec": {
      "name": "python3",
      "display_name": "Python 3"
    },
    "language_info": {
      "codemirror_mode": {
        "name": "ipython",
        "version": 3
      },
      "file_extension": ".py",
      "mimetype": "text/x-python",
      "name": "python",
      "nbconvert_exporter": "python",
      "pygments_lexer": "ipython3",
      "version": "3.7.3"
    },
    "colab": {
      "name": "Fraud_detection.ipynb",
      "provenance": [],
      "collapsed_sections": [],
      "toc_visible": true
    },
    "accelerator": "GPU"
  },
  "cells": [
    {
      "cell_type": "code",
      "metadata": {
        "id": "jOCKzT2cuSZk",
        "colab_type": "code",
        "colab": {
          "base_uri": "https://localhost:8080/",
          "height": 17
        },
        "outputId": "f1d204b4-0e10-4976-f640-840fea526f91"
      },
      "source": [
        "import numpy as np # linear algebra\n",
        "import pandas as pd # data processing, CSV file I/O (e.g. pd.read_csv)\n",
        "import scipy as sp\n",
        "from scipy import stats\n",
        "import matplotlib.pyplot as plt\n",
        "from time import time\n",
        "import seaborn as sns\n",
        "import datetime\n",
        "\n",
        "# Standard plotly imports\n",
        "#import plotly.plotly as py\n",
        "import plotly.graph_objs as go\n",
        "import plotly.tools as tls\n",
        "from plotly.offline import iplot, init_notebook_mode\n",
        "#import cufflinks\n",
        "#import cufflinks as cf\n",
        "import plotly.figure_factory as ff\n",
        "\n",
        "# Using plotly + cufflinks in offline mode\n",
        "init_notebook_mode(connected=True)\n",
        "#cufflinks.go_offline(connected=True)\n",
        "\n",
        "# Preprocessing, modelling and evaluating\n",
        "from sklearn import preprocessing\n",
        "from sklearn.metrics import confusion_matrix, roc_auc_score\n",
        "from sklearn.model_selection import StratifiedKFold, cross_val_score, KFold\n",
        "from xgboost import XGBClassifier\n",
        "import xgboost as xgb\n",
        "import lightgbm as lgb\n",
        "from sklearn.model_selection import KFold, TimeSeriesSplit\n",
        "## Hyperopt modules\n",
        "from hyperopt import fmin, hp, tpe, Trials, space_eval, STATUS_OK, STATUS_RUNNING\n",
        "from functools import partial\n",
        "\n",
        "import os\n",
        "import gc"
      ],
      "execution_count": 1,
      "outputs": [
        {
          "output_type": "display_data",
          "data": {
            "text/html": [
              "        <script type=\"text/javascript\">\n",
              "        window.PlotlyConfig = {MathJaxConfig: 'local'};\n",
              "        if (window.MathJax) {MathJax.Hub.Config({SVG: {font: \"STIX-Web\"}});}\n",
              "        if (typeof require !== 'undefined') {\n",
              "        require.undef(\"plotly\");\n",
              "        requirejs.config({\n",
              "            paths: {\n",
              "                'plotly': ['https://cdn.plot.ly/plotly-latest.min']\n",
              "            }\n",
              "        });\n",
              "        require(['plotly'], function(Plotly) {\n",
              "            window._Plotly = Plotly;\n",
              "        });\n",
              "        }\n",
              "        </script>\n",
              "        "
            ]
          },
          "metadata": {
            "tags": []
          }
        }
      ]
    },
    {
      "cell_type": "code",
      "metadata": {
        "scrolled": false,
        "id": "bqW1Al2OuSZo",
        "colab_type": "code",
        "colab": {}
      },
      "source": [
        "# import dill,gzip\n",
        "# filepath = 'notebook_session.pkl'\n",
        "# # with gzip.open('./notebook_session', 'wb') as f:\n",
        "# dill.dump_session(filepath)\n",
        "# dill.load_session('notebook_session.db')"
      ],
      "execution_count": 0,
      "outputs": []
    },
    {
      "cell_type": "code",
      "metadata": {
        "id": "-925eQ5ruSZq",
        "colab_type": "code",
        "colab": {}
      },
      "source": [
        "from IPython.core.interactiveshell import InteractiveShell\n",
        "InteractiveShell.ast_node_interactivity = \"all\""
      ],
      "execution_count": 0,
      "outputs": []
    },
    {
      "cell_type": "code",
      "metadata": {
        "id": "hJ1xtholuSZs",
        "colab_type": "code",
        "colab": {}
      },
      "source": [
        "def read_data():    \n",
        "    df_id = pd.read_csv(\"/content/ieee-fraud-detection/train_identity.csv\")\n",
        "    df_trans = pd.read_csv(\"/content/ieee-fraud-detection/train_transaction.csv\")\n",
        "    print(\"Train Data loaded successfully\")\n",
        "    df_id_test = pd.read_csv(\"/content/ieee-fraud-detection/test_identity.csv\")\n",
        "    df_trans_test = pd.read_csv(\"/content/ieee-fraud-detection/test_transaction.csv\")\n",
        "    print(\"Test Data loaded successfully\")\n",
        "    return df_id,df_trans, df_id_test, df_trans_test"
      ],
      "execution_count": 0,
      "outputs": []
    },
    {
      "cell_type": "code",
      "metadata": {
        "colab_type": "code",
        "id": "GBPOYYKj0laq",
        "colab": {
          "base_uri": "https://localhost:8080/",
          "height": 224
        },
        "outputId": "5a57661a-c173-4eea-8cf6-f3c410347966"
      },
      "source": [
        "# !pip install kaggle\n",
        "api_token = {\"username\":\"sudheerraghu\",\"key\":\"da20c9fa7746bbaf995b9540e671b436\"}\n",
        "import json\n",
        "import zipfile\n",
        "import os\n",
        "filename='/root/.kaggle/kaggle.json'\n",
        "os.makedirs(os.path.dirname(filename), exist_ok=True)\n",
        "with open(filename, 'w') as file:\n",
        "    json.dump(api_token, file)\n",
        "!chmod 600 filename\n",
        "!kaggle config path -p /content\n",
        "!kaggle competitions download -c ieee-fraud-detection\n",
        "\n",
        "if not os.path.exists(\"/content/ieee-fraud-detection\"):\n",
        "    os.makedirs(\"/content/ieee-fraud-detection\")\n",
        "os.chdir('/content/ieee-fraud-detection')\n",
        "\n",
        "for file in os.listdir():\n",
        "  if zipfile.is_zipfile(file):\n",
        "    zip_ref = zipfile.ZipFile(file, 'r')\n",
        "    zip_ref.extractall()\n",
        "    zip_ref.close()"
      ],
      "execution_count": 8,
      "outputs": [
        {
          "output_type": "stream",
          "text": [
            "chmod: cannot access 'filename': No such file or directory\n",
            "Warning: Your Kaggle API key is readable by other users on this system! To fix this, you can run 'chmod 600 /root/.kaggle/kaggle.json'\n",
            "usage: kaggle config [-h] {view,set,unset} ...\n",
            "kaggle config: error: argument command: invalid choice: 'path' (choose from 'view', 'set', 'unset')\n",
            "Warning: Your Kaggle API key is readable by other users on this system! To fix this, you can run 'chmod 600 /root/.kaggle/kaggle.json'\n",
            "Warning: Looks like you're using an outdated API Version, please consider updating (server 1.5.6 / client 1.5.4)\n",
            "train_transaction.csv.zip: Skipping, found more recently modified local copy (use --force to force download)\n",
            "train_identity.csv.zip: Skipping, found more recently modified local copy (use --force to force download)\n",
            "test_transaction.csv.zip: Skipping, found more recently modified local copy (use --force to force download)\n",
            "test_identity.csv.zip: Skipping, found more recently modified local copy (use --force to force download)\n",
            "sample_submission.csv.zip: Skipping, found more recently modified local copy (use --force to force download)\n"
          ],
          "name": "stdout"
        }
      ]
    },
    {
      "cell_type": "code",
      "metadata": {
        "id": "ZNFLnoyVuSZu",
        "colab_type": "code",
        "colab": {
          "base_uri": "https://localhost:8080/",
          "height": 51
        },
        "outputId": "bf9437e1-1644-4201-e54c-531e01a394e3"
      },
      "source": [
        "df_id,df_trans, df_id_test, df_trans_test = read_data()"
      ],
      "execution_count": 9,
      "outputs": [
        {
          "output_type": "stream",
          "text": [
            "Train Data loaded successfully\n",
            "Test Data loaded successfully\n"
          ],
          "name": "stdout"
        }
      ]
    },
    {
      "cell_type": "code",
      "metadata": {
        "id": "-8KPb1PWuSZw",
        "colab_type": "code",
        "colab": {}
      },
      "source": [
        "def summary_df(df):\n",
        "    print(f\"Dataset Shape: {df.shape}\")\n",
        "    summary = pd.DataFrame(df.dtypes,columns=['dtypes'])\n",
        "    summary = summary.reset_index()\n",
        "    summary['Name'] = summary['index']\n",
        "    summary = summary[['Name','dtypes']]\n",
        "    summary['Missing'] = df.isnull().sum().values    \n",
        "    summary['Uniques'] = df.nunique().values\n",
        "    summary['First Value'] = df.loc[0].values\n",
        "    summary['Second Value'] = df.loc[1].values\n",
        "    summary['Third Value'] = df.loc[2].values\n",
        "\n",
        "    for name in summary['Name'].value_counts().index:\n",
        "        summary.loc[summary['Name'] == name, 'Entropy'] = round(stats.entropy(df[name].value_counts(normalize=True), base=2),2) \n",
        "\n",
        "    return summary\n",
        "\n",
        "## Function to reduce the DF size\n",
        "def reduce_mem_usage(df, verbose=True):\n",
        "    numerics = ['int16', 'int32', 'int64', 'float16', 'float32', 'float64']\n",
        "    start_mem = df.memory_usage().sum() / 1024**2    \n",
        "    for col in df.columns:\n",
        "        col_type = df[col].dtypes\n",
        "        if col_type in numerics:\n",
        "            c_min = df[col].min()\n",
        "            c_max = df[col].max()\n",
        "            if str(col_type)[:3] == 'int':\n",
        "                if c_min > np.iinfo(np.int8).min and c_max < np.iinfo(np.int8).max:\n",
        "                    df[col] = df[col].astype(np.int8)\n",
        "                elif c_min > np.iinfo(np.int16).min and c_max < np.iinfo(np.int16).max:\n",
        "                    df[col] = df[col].astype(np.int16)\n",
        "                elif c_min > np.iinfo(np.int32).min and c_max < np.iinfo(np.int32).max:\n",
        "                    df[col] = df[col].astype(np.int32)\n",
        "                elif c_min > np.iinfo(np.int64).min and c_max < np.iinfo(np.int64).max:\n",
        "                    df[col] = df[col].astype(np.int64)  \n",
        "            else:\n",
        "                if c_min > np.finfo(np.float16).min and c_max < np.finfo(np.float16).max:\n",
        "                    df[col] = df[col].astype(np.float16)\n",
        "                elif c_min > np.finfo(np.float32).min and c_max < np.finfo(np.float32).max:\n",
        "                    df[col] = df[col].astype(np.float32)\n",
        "                else:\n",
        "                    df[col] = df[col].astype(np.float64)    \n",
        "    end_mem = df.memory_usage().sum() / 1024**2\n",
        "    if verbose: print('Mem. usage decreased to {:5.2f} Mb ({:.1f}% reduction)'.format(end_mem, 100 * (start_mem - end_mem) / start_mem))\n",
        "    return df\n"
      ],
      "execution_count": 0,
      "outputs": []
    },
    {
      "cell_type": "code",
      "metadata": {
        "id": "MT8BeBpjuSZz",
        "colab_type": "code",
        "colab": {
          "base_uri": "https://localhost:8080/",
          "height": 85
        },
        "outputId": "b5129951-347e-4508-a6fb-a67201b7343b"
      },
      "source": [
        "### reducing the memory\n",
        "\n",
        "df_trans = reduce_mem_usage(df_trans)\n",
        "df_id = reduce_mem_usage(df_id)\n",
        "\n",
        "df_trans_test = reduce_mem_usage(df_trans_test)\n",
        "df_id_test = reduce_mem_usage(df_id_test)"
      ],
      "execution_count": 11,
      "outputs": [
        {
          "output_type": "stream",
          "text": [
            "Mem. usage decreased to 542.35 Mb (69.4% reduction)\n",
            "Mem. usage decreased to 25.86 Mb (42.7% reduction)\n",
            "Mem. usage decreased to 472.59 Mb (68.9% reduction)\n",
            "Mem. usage decreased to 25.44 Mb (42.7% reduction)\n"
          ],
          "name": "stdout"
        }
      ]
    },
    {
      "cell_type": "code",
      "metadata": {
        "id": "knxCpTMkuSZ2",
        "colab_type": "code",
        "colab": {
          "base_uri": "https://localhost:8080/",
          "height": 841
        },
        "outputId": "f6bfb07f-f81f-431e-aaa1-96b167daf56a"
      },
      "source": [
        "summary_df(df_trans)[:25]"
      ],
      "execution_count": 12,
      "outputs": [
        {
          "output_type": "stream",
          "text": [
            "Dataset Shape: (590540, 394)\n"
          ],
          "name": "stdout"
        },
        {
          "output_type": "execute_result",
          "data": {
            "text/html": [
              "<div>\n",
              "<style scoped>\n",
              "    .dataframe tbody tr th:only-of-type {\n",
              "        vertical-align: middle;\n",
              "    }\n",
              "\n",
              "    .dataframe tbody tr th {\n",
              "        vertical-align: top;\n",
              "    }\n",
              "\n",
              "    .dataframe thead th {\n",
              "        text-align: right;\n",
              "    }\n",
              "</style>\n",
              "<table border=\"1\" class=\"dataframe\">\n",
              "  <thead>\n",
              "    <tr style=\"text-align: right;\">\n",
              "      <th></th>\n",
              "      <th>Name</th>\n",
              "      <th>dtypes</th>\n",
              "      <th>Missing</th>\n",
              "      <th>Uniques</th>\n",
              "      <th>First Value</th>\n",
              "      <th>Second Value</th>\n",
              "      <th>Third Value</th>\n",
              "      <th>Entropy</th>\n",
              "    </tr>\n",
              "  </thead>\n",
              "  <tbody>\n",
              "    <tr>\n",
              "      <th>0</th>\n",
              "      <td>TransactionID</td>\n",
              "      <td>int32</td>\n",
              "      <td>0</td>\n",
              "      <td>590540</td>\n",
              "      <td>2987000</td>\n",
              "      <td>2987001</td>\n",
              "      <td>2987002</td>\n",
              "      <td>19.17</td>\n",
              "    </tr>\n",
              "    <tr>\n",
              "      <th>1</th>\n",
              "      <td>isFraud</td>\n",
              "      <td>int8</td>\n",
              "      <td>0</td>\n",
              "      <td>2</td>\n",
              "      <td>0</td>\n",
              "      <td>0</td>\n",
              "      <td>0</td>\n",
              "      <td>0.22</td>\n",
              "    </tr>\n",
              "    <tr>\n",
              "      <th>2</th>\n",
              "      <td>TransactionDT</td>\n",
              "      <td>int32</td>\n",
              "      <td>0</td>\n",
              "      <td>573349</td>\n",
              "      <td>86400</td>\n",
              "      <td>86401</td>\n",
              "      <td>86469</td>\n",
              "      <td>19.11</td>\n",
              "    </tr>\n",
              "    <tr>\n",
              "      <th>3</th>\n",
              "      <td>TransactionAmt</td>\n",
              "      <td>float16</td>\n",
              "      <td>0</td>\n",
              "      <td>8195</td>\n",
              "      <td>68.5</td>\n",
              "      <td>29</td>\n",
              "      <td>59</td>\n",
              "      <td>8.10</td>\n",
              "    </tr>\n",
              "    <tr>\n",
              "      <th>4</th>\n",
              "      <td>ProductCD</td>\n",
              "      <td>object</td>\n",
              "      <td>0</td>\n",
              "      <td>5</td>\n",
              "      <td>W</td>\n",
              "      <td>W</td>\n",
              "      <td>W</td>\n",
              "      <td>1.28</td>\n",
              "    </tr>\n",
              "    <tr>\n",
              "      <th>5</th>\n",
              "      <td>card1</td>\n",
              "      <td>int16</td>\n",
              "      <td>0</td>\n",
              "      <td>13553</td>\n",
              "      <td>13926</td>\n",
              "      <td>2755</td>\n",
              "      <td>4663</td>\n",
              "      <td>9.97</td>\n",
              "    </tr>\n",
              "    <tr>\n",
              "      <th>6</th>\n",
              "      <td>card2</td>\n",
              "      <td>float16</td>\n",
              "      <td>8933</td>\n",
              "      <td>500</td>\n",
              "      <td>NaN</td>\n",
              "      <td>404</td>\n",
              "      <td>490</td>\n",
              "      <td>6.32</td>\n",
              "    </tr>\n",
              "    <tr>\n",
              "      <th>7</th>\n",
              "      <td>card3</td>\n",
              "      <td>float16</td>\n",
              "      <td>1565</td>\n",
              "      <td>114</td>\n",
              "      <td>150</td>\n",
              "      <td>150</td>\n",
              "      <td>150</td>\n",
              "      <td>0.68</td>\n",
              "    </tr>\n",
              "    <tr>\n",
              "      <th>8</th>\n",
              "      <td>card4</td>\n",
              "      <td>object</td>\n",
              "      <td>1577</td>\n",
              "      <td>4</td>\n",
              "      <td>discover</td>\n",
              "      <td>mastercard</td>\n",
              "      <td>visa</td>\n",
              "      <td>1.09</td>\n",
              "    </tr>\n",
              "    <tr>\n",
              "      <th>9</th>\n",
              "      <td>card5</td>\n",
              "      <td>float16</td>\n",
              "      <td>4259</td>\n",
              "      <td>119</td>\n",
              "      <td>142</td>\n",
              "      <td>102</td>\n",
              "      <td>166</td>\n",
              "      <td>2.66</td>\n",
              "    </tr>\n",
              "    <tr>\n",
              "      <th>10</th>\n",
              "      <td>card6</td>\n",
              "      <td>object</td>\n",
              "      <td>1571</td>\n",
              "      <td>4</td>\n",
              "      <td>credit</td>\n",
              "      <td>credit</td>\n",
              "      <td>debit</td>\n",
              "      <td>0.82</td>\n",
              "    </tr>\n",
              "    <tr>\n",
              "      <th>11</th>\n",
              "      <td>addr1</td>\n",
              "      <td>float16</td>\n",
              "      <td>65706</td>\n",
              "      <td>332</td>\n",
              "      <td>315</td>\n",
              "      <td>325</td>\n",
              "      <td>330</td>\n",
              "      <td>5.06</td>\n",
              "    </tr>\n",
              "    <tr>\n",
              "      <th>12</th>\n",
              "      <td>addr2</td>\n",
              "      <td>float16</td>\n",
              "      <td>65706</td>\n",
              "      <td>74</td>\n",
              "      <td>87</td>\n",
              "      <td>87</td>\n",
              "      <td>87</td>\n",
              "      <td>0.08</td>\n",
              "    </tr>\n",
              "    <tr>\n",
              "      <th>13</th>\n",
              "      <td>dist1</td>\n",
              "      <td>float16</td>\n",
              "      <td>352271</td>\n",
              "      <td>2412</td>\n",
              "      <td>19</td>\n",
              "      <td>NaN</td>\n",
              "      <td>287</td>\n",
              "      <td>6.33</td>\n",
              "    </tr>\n",
              "    <tr>\n",
              "      <th>14</th>\n",
              "      <td>dist2</td>\n",
              "      <td>float16</td>\n",
              "      <td>552913</td>\n",
              "      <td>1699</td>\n",
              "      <td>NaN</td>\n",
              "      <td>NaN</td>\n",
              "      <td>NaN</td>\n",
              "      <td>7.41</td>\n",
              "    </tr>\n",
              "    <tr>\n",
              "      <th>15</th>\n",
              "      <td>P_emaildomain</td>\n",
              "      <td>object</td>\n",
              "      <td>94456</td>\n",
              "      <td>59</td>\n",
              "      <td>NaN</td>\n",
              "      <td>gmail.com</td>\n",
              "      <td>outlook.com</td>\n",
              "      <td>2.68</td>\n",
              "    </tr>\n",
              "    <tr>\n",
              "      <th>16</th>\n",
              "      <td>R_emaildomain</td>\n",
              "      <td>object</td>\n",
              "      <td>453249</td>\n",
              "      <td>60</td>\n",
              "      <td>NaN</td>\n",
              "      <td>NaN</td>\n",
              "      <td>NaN</td>\n",
              "      <td>2.76</td>\n",
              "    </tr>\n",
              "    <tr>\n",
              "      <th>17</th>\n",
              "      <td>C1</td>\n",
              "      <td>float16</td>\n",
              "      <td>0</td>\n",
              "      <td>1495</td>\n",
              "      <td>1</td>\n",
              "      <td>1</td>\n",
              "      <td>1</td>\n",
              "      <td>2.72</td>\n",
              "    </tr>\n",
              "    <tr>\n",
              "      <th>18</th>\n",
              "      <td>C2</td>\n",
              "      <td>float16</td>\n",
              "      <td>0</td>\n",
              "      <td>1167</td>\n",
              "      <td>1</td>\n",
              "      <td>1</td>\n",
              "      <td>1</td>\n",
              "      <td>2.75</td>\n",
              "    </tr>\n",
              "    <tr>\n",
              "      <th>19</th>\n",
              "      <td>C3</td>\n",
              "      <td>float16</td>\n",
              "      <td>0</td>\n",
              "      <td>27</td>\n",
              "      <td>0</td>\n",
              "      <td>0</td>\n",
              "      <td>0</td>\n",
              "      <td>0.04</td>\n",
              "    </tr>\n",
              "    <tr>\n",
              "      <th>20</th>\n",
              "      <td>C4</td>\n",
              "      <td>float16</td>\n",
              "      <td>0</td>\n",
              "      <td>1223</td>\n",
              "      <td>0</td>\n",
              "      <td>0</td>\n",
              "      <td>0</td>\n",
              "      <td>1.12</td>\n",
              "    </tr>\n",
              "    <tr>\n",
              "      <th>21</th>\n",
              "      <td>C5</td>\n",
              "      <td>float16</td>\n",
              "      <td>0</td>\n",
              "      <td>319</td>\n",
              "      <td>0</td>\n",
              "      <td>0</td>\n",
              "      <td>0</td>\n",
              "      <td>2.06</td>\n",
              "    </tr>\n",
              "    <tr>\n",
              "      <th>22</th>\n",
              "      <td>C6</td>\n",
              "      <td>float16</td>\n",
              "      <td>0</td>\n",
              "      <td>1291</td>\n",
              "      <td>1</td>\n",
              "      <td>1</td>\n",
              "      <td>1</td>\n",
              "      <td>2.52</td>\n",
              "    </tr>\n",
              "    <tr>\n",
              "      <th>23</th>\n",
              "      <td>C7</td>\n",
              "      <td>float16</td>\n",
              "      <td>0</td>\n",
              "      <td>1069</td>\n",
              "      <td>0</td>\n",
              "      <td>0</td>\n",
              "      <td>0</td>\n",
              "      <td>0.71</td>\n",
              "    </tr>\n",
              "    <tr>\n",
              "      <th>24</th>\n",
              "      <td>C8</td>\n",
              "      <td>float16</td>\n",
              "      <td>0</td>\n",
              "      <td>1130</td>\n",
              "      <td>0</td>\n",
              "      <td>0</td>\n",
              "      <td>0</td>\n",
              "      <td>1.25</td>\n",
              "    </tr>\n",
              "  </tbody>\n",
              "</table>\n",
              "</div>"
            ],
            "text/plain": [
              "              Name   dtypes  Missing  ...  Second Value  Third Value Entropy\n",
              "0    TransactionID    int32        0  ...       2987001      2987002   19.17\n",
              "1          isFraud     int8        0  ...             0            0    0.22\n",
              "2    TransactionDT    int32        0  ...         86401        86469   19.11\n",
              "3   TransactionAmt  float16        0  ...            29           59    8.10\n",
              "4        ProductCD   object        0  ...             W            W    1.28\n",
              "5            card1    int16        0  ...          2755         4663    9.97\n",
              "6            card2  float16     8933  ...           404          490    6.32\n",
              "7            card3  float16     1565  ...           150          150    0.68\n",
              "8            card4   object     1577  ...    mastercard         visa    1.09\n",
              "9            card5  float16     4259  ...           102          166    2.66\n",
              "10           card6   object     1571  ...        credit        debit    0.82\n",
              "11           addr1  float16    65706  ...           325          330    5.06\n",
              "12           addr2  float16    65706  ...            87           87    0.08\n",
              "13           dist1  float16   352271  ...           NaN          287    6.33\n",
              "14           dist2  float16   552913  ...           NaN          NaN    7.41\n",
              "15   P_emaildomain   object    94456  ...     gmail.com  outlook.com    2.68\n",
              "16   R_emaildomain   object   453249  ...           NaN          NaN    2.76\n",
              "17              C1  float16        0  ...             1            1    2.72\n",
              "18              C2  float16        0  ...             1            1    2.75\n",
              "19              C3  float16        0  ...             0            0    0.04\n",
              "20              C4  float16        0  ...             0            0    1.12\n",
              "21              C5  float16        0  ...             0            0    2.06\n",
              "22              C6  float16        0  ...             1            1    2.52\n",
              "23              C7  float16        0  ...             0            0    0.71\n",
              "24              C8  float16        0  ...             0            0    1.25\n",
              "\n",
              "[25 rows x 8 columns]"
            ]
          },
          "metadata": {
            "tags": []
          },
          "execution_count": 12
        }
      ]
    },
    {
      "cell_type": "code",
      "metadata": {
        "id": "hFrLawTJuSZ4",
        "colab_type": "code",
        "colab": {
          "base_uri": "https://localhost:8080/",
          "height": 370
        },
        "outputId": "572bc483-f9dd-4d90-818c-0f9525194af6"
      },
      "source": [
        "############ LOG transaction amount distribution\n",
        "\n",
        "fig, ax = plt.subplots(1, 2, figsize=(18,4))\n",
        "\n",
        "time_val = df_trans.loc[df_trans['isFraud'] == 1]['TransactionAmt'].values\n",
        "\n",
        "sns.distplot(np.log(time_val), ax=ax[0], color='r')\n",
        "ax[0].set_title('Distribution of LOG TransactionAmt, isFraud=1', fontsize=14)\n",
        "ax[1].set_xlim([min(np.log(time_val)), max(np.log(time_val))])\n",
        "\n",
        "time_val = df_trans.loc[df_trans['isFraud'] == 0]['TransactionAmt'].values\n",
        "\n",
        "sns.distplot(np.log(time_val), ax=ax[1], color='b')\n",
        "ax[1].set_title('Distribution of LOG TransactionAmt, isFraud=0', fontsize=14)\n",
        "ax[1].set_xlim([min(np.log(time_val)), max(np.log(time_val))])\n",
        "\n",
        "\n",
        "plt.show()"
      ],
      "execution_count": 13,
      "outputs": [
        {
          "output_type": "execute_result",
          "data": {
            "text/plain": [
              "<matplotlib.axes._subplots.AxesSubplot at 0x7fc58b34c7b8>"
            ]
          },
          "metadata": {
            "tags": []
          },
          "execution_count": 13
        },
        {
          "output_type": "execute_result",
          "data": {
            "text/plain": [
              "Text(0.5, 1.0, 'Distribution of LOG TransactionAmt, isFraud=1')"
            ]
          },
          "metadata": {
            "tags": []
          },
          "execution_count": 13
        },
        {
          "output_type": "execute_result",
          "data": {
            "text/plain": [
              "(-1.231, 8.555)"
            ]
          },
          "metadata": {
            "tags": []
          },
          "execution_count": 13
        },
        {
          "output_type": "execute_result",
          "data": {
            "text/plain": [
              "<matplotlib.axes._subplots.AxesSubplot at 0x7fc58b56d8d0>"
            ]
          },
          "metadata": {
            "tags": []
          },
          "execution_count": 13
        },
        {
          "output_type": "execute_result",
          "data": {
            "text/plain": [
              "Text(0.5, 1.0, 'Distribution of LOG TransactionAmt, isFraud=0')"
            ]
          },
          "metadata": {
            "tags": []
          },
          "execution_count": 13
        },
        {
          "output_type": "execute_result",
          "data": {
            "text/plain": [
              "(-1.383, 10.375)"
            ]
          },
          "metadata": {
            "tags": []
          },
          "execution_count": 13
        },
        {
          "output_type": "display_data",
          "data": {
            "image/png": "[encoded data removed]",
            "text/plain": [
              "<Figure size 1296x288 with 2 Axes>"
            ]
          },
          "metadata": {
            "tags": []
          }
        }
      ]
    },
    {
      "cell_type": "code",
      "metadata": {
        "id": "mg19FF28uSZ6",
        "colab_type": "code",
        "colab": {
          "base_uri": "https://localhost:8080/",
          "height": 238
        },
        "outputId": "b2e76087-731d-4aa0-f383-9e54634c421d"
      },
      "source": [
        "df_trans['TransactionAmt'] = df_trans['TransactionAmt'].astype(float)\n",
        "total_amt = df_trans.groupby(['isFraud'])['TransactionAmt'].sum()\n",
        "total_cnt = df_trans.groupby(['isFraud'])['TransactionID'].count()\n",
        "\n",
        "print('Total trx amount is :', df_trans.TransactionAmt.sum().astype('float64'))\n",
        "print('\\nFraud by trx amount: {}'.format(total_amt))\n",
        "print('\\nTotal trx count is : {}'.format(df_trans.TransactionAmt.count()))\n",
        "print('\\nBy Trx count:',total_cnt)"
      ],
      "execution_count": 14,
      "outputs": [
        {
          "output_type": "stream",
          "text": [
            "Total trx amount is : 79739049.73706055\n",
            "\n",
            "Fraud by trx amount: isFraud\n",
            "0    7.665521e+07\n",
            "1    3.083836e+06\n",
            "Name: TransactionAmt, dtype: float64\n",
            "\n",
            "Total trx count is : 590540\n",
            "\n",
            "By Trx count: isFraud\n",
            "0    569877\n",
            "1     20663\n",
            "Name: TransactionID, dtype: int64\n"
          ],
          "name": "stdout"
        }
      ]
    },
    {
      "cell_type": "code",
      "metadata": {
        "id": "WmA45WCPuSZ8",
        "colab_type": "code",
        "colab": {
          "base_uri": "https://localhost:8080/",
          "height": 512
        },
        "outputId": "1a0dc5fc-6777-45da-9bc5-b5b145839918"
      },
      "source": [
        "########### Percentage distribution of Fraud and No fraud transactions by transaction count and amount\n",
        "\n",
        "df_trans['TransactionAmt'] = df_trans['TransactionAmt'].astype(float)\n",
        "total = len(df_trans)\n",
        "total_amt = df_trans.groupby(['isFraud'])['TransactionAmt'].sum().sum()\n",
        "plt.figure(figsize=(16,6))\n",
        "\n",
        "plt.subplot(121)\n",
        "g = sns.countplot(x='isFraud', data=df_trans, )\n",
        "g.set_title(\"Fraud Transactions Distribution \\n# 0: No Fraud | 1: Fraud #\", fontsize=22)\n",
        "g.set_xlabel(\"Is fraud?\", fontsize=18)\n",
        "g.set_ylabel('Transaction Count', fontsize=18)\n",
        "for p in g.patches:\n",
        "    height = p.get_height()\n",
        "    g.text(p.get_x()+p.get_width()/2.,\n",
        "            height + 3,\n",
        "            '{:1.2f}%'.format(height/total*100),\n",
        "            ha=\"center\", fontsize=15) \n",
        "\n",
        "perc_amt = (df_trans.groupby(['isFraud'])['TransactionAmt'].sum())\n",
        "perc_amt = perc_amt.reset_index()\n",
        "plt.subplot(122)\n",
        "g1 = sns.barplot(x='isFraud', y='TransactionAmt',  dodge=True, data=perc_amt)\n",
        "g1.set_title(\"% Total Amount in Transaction Amt \\n# 0: No Fraud | 1: Fraud #\", fontsize=22)\n",
        "g1.set_xlabel(\"Is fraud?\", fontsize=18)\n",
        "g1.set_ylabel('Total Transaction Amount Scalar', fontsize=18)\n",
        "for p in g1.patches:\n",
        "    height = p.get_height()\n",
        "    g1.text(p.get_x()+p.get_width()/2.,\n",
        "            height + 3,\n",
        "            '{:1.2f}%'.format(height/total_amt * 100),\n",
        "            ha=\"center\", fontsize=15) \n",
        "    \n",
        "plt.show()"
      ],
      "execution_count": 15,
      "outputs": [
        {
          "output_type": "execute_result",
          "data": {
            "text/plain": [
              "<Figure size 1152x432 with 0 Axes>"
            ]
          },
          "metadata": {
            "tags": []
          },
          "execution_count": 15
        },
        {
          "output_type": "execute_result",
          "data": {
            "text/plain": [
              "<matplotlib.axes._subplots.AxesSubplot at 0x7fc58b962780>"
            ]
          },
          "metadata": {
            "tags": []
          },
          "execution_count": 15
        },
        {
          "output_type": "execute_result",
          "data": {
            "text/plain": [
              "Text(0.5, 1.0, 'Fraud Transactions Distribution \\n# 0: No Fraud | 1: Fraud #')"
            ]
          },
          "metadata": {
            "tags": []
          },
          "execution_count": 15
        },
        {
          "output_type": "execute_result",
          "data": {
            "text/plain": [
              "Text(0.5, 0, 'Is fraud?')"
            ]
          },
          "metadata": {
            "tags": []
          },
          "execution_count": 15
        },
        {
          "output_type": "execute_result",
          "data": {
            "text/plain": [
              "Text(0, 0.5, 'Transaction Count')"
            ]
          },
          "metadata": {
            "tags": []
          },
          "execution_count": 15
        },
        {
          "output_type": "execute_result",
          "data": {
            "text/plain": [
              "Text(0.0, 569880, '96.50%')"
            ]
          },
          "metadata": {
            "tags": []
          },
          "execution_count": 15
        },
        {
          "output_type": "execute_result",
          "data": {
            "text/plain": [
              "Text(1.0, 20666, '3.50%')"
            ]
          },
          "metadata": {
            "tags": []
          },
          "execution_count": 15
        },
        {
          "output_type": "execute_result",
          "data": {
            "text/plain": [
              "<matplotlib.axes._subplots.AxesSubplot at 0x7fc58c090550>"
            ]
          },
          "metadata": {
            "tags": []
          },
          "execution_count": 15
        },
        {
          "output_type": "execute_result",
          "data": {
            "text/plain": [
              "Text(0.5, 1.0, '% Total Amount in Transaction Amt \\n# 0: No Fraud | 1: Fraud #')"
            ]
          },
          "metadata": {
            "tags": []
          },
          "execution_count": 15
        },
        {
          "output_type": "execute_result",
          "data": {
            "text/plain": [
              "Text(0.5, 0, 'Is fraud?')"
            ]
          },
          "metadata": {
            "tags": []
          },
          "execution_count": 15
        },
        {
          "output_type": "execute_result",
          "data": {
            "text/plain": [
              "Text(0, 0.5, 'Total Transaction Amount Scalar')"
            ]
          },
          "metadata": {
            "tags": []
          },
          "execution_count": 15
        },
        {
          "output_type": "execute_result",
          "data": {
            "text/plain": [
              "Text(0.0, 76655216.67895508, '96.13%')"
            ]
          },
          "metadata": {
            "tags": []
          },
          "execution_count": 15
        },
        {
          "output_type": "execute_result",
          "data": {
            "text/plain": [
              "Text(1.0, 3083839.0581054688, '3.87%')"
            ]
          },
          "metadata": {
            "tags": []
          },
          "execution_count": 15
        },
        {
          "output_type": "display_data",
          "data": {
            "image/png": "[encoded data removed]",
            "text/plain": [
              "<Figure size 1152x432 with 2 Axes>"
            ]
          },
          "metadata": {
            "tags": []
          }
        }
      ]
    },
    {
      "cell_type": "code",
      "metadata": {
        "id": "f48z52jyuSZ-",
        "colab_type": "code",
        "colab": {
          "base_uri": "https://localhost:8080/",
          "height": 170
        },
        "outputId": "5c7e6c62-95c9-4503-cb76-3138d66e94ba"
      },
      "source": [
        "######### Quantiles of the Fraud and No fraud transaction amounts\n",
        "\n",
        "print(pd.concat([df_trans[df_trans['isFraud'] == 1]['TransactionAmt']\\\n",
        "                 .quantile([.01, .1, .25, .5, .75, .9, .99])\\\n",
        "                 .reset_index(), \n",
        "                 df_trans[df_trans['isFraud'] == 0]['TransactionAmt']\\\n",
        "                 .quantile([.01, .1, .25, .5, .75, .9, .99])\\\n",
        "                 .reset_index()],\n",
        "                axis=1, keys=['Fraud', \"No Fraud\"]))"
      ],
      "execution_count": 16,
      "outputs": [
        {
          "output_type": "stream",
          "text": [
            "  Fraud                No Fraud               \n",
            "  index TransactionAmt    index TransactionAmt\n",
            "0  0.01       6.739453     0.01       9.511875\n",
            "1  0.10      18.937500     0.10      26.312500\n",
            "2  0.25      35.031250     0.25      43.968750\n",
            "3  0.50      75.000000     0.50      68.500000\n",
            "4  0.75     161.000000     0.75     120.000000\n",
            "5  0.90     335.000000     0.90     267.100000\n",
            "6  0.99     994.000000     0.99    1104.000000\n"
          ],
          "name": "stdout"
        }
      ]
    },
    {
      "cell_type": "code",
      "metadata": {
        "id": "CHO2qeuMuSZ_",
        "colab_type": "code",
        "colab": {
          "base_uri": "https://localhost:8080/",
          "height": 808
        },
        "outputId": "403f3c78-5c63-40a9-976c-908069d327d1"
      },
      "source": [
        "############# Transaction amount distribution by product codes\n",
        "\n",
        "tmp = pd.crosstab(df_trans['ProductCD'], df_trans['isFraud'], normalize='index') * 100\n",
        "tmp = tmp.reset_index()\n",
        "tmp.rename(columns={0:'NoFraud', 1:'Fraud'}, inplace=True)\n",
        "\n",
        "plt.figure(figsize=(14,10))\n",
        "plt.suptitle('Product Code Distributions', fontsize=22)\n",
        "\n",
        "plt.subplot(221)\n",
        "g = sns.countplot(x='ProductCD', data=df_trans)\n",
        "# plt.legend(title='Fraud', loc='upper center', labels=['No', 'Yes'])\n",
        "\n",
        "g.set_title(\"Product Code Distribution\", fontsize=19)\n",
        "g.set_xlabel(\"ProductCD Name\", fontsize=17)\n",
        "g.set_ylabel(\"Count\", fontsize=17)\n",
        "g.set_ylim(0,500000)\n",
        "for p in g.patches:\n",
        "    height = p.get_height()\n",
        "    g.text(p.get_x()+p.get_width()/2.,\n",
        "            height + 3,\n",
        "            '{:1.2f}%'.format(height/total*100),\n",
        "            ha=\"center\", fontsize=14) \n",
        "\n",
        "plt.subplot(222)\n",
        "g1 = sns.countplot(x='ProductCD', hue='isFraud', data=df_trans)\n",
        "plt.legend(title='Fraud', loc='best', labels=['No', 'Yes'])\n",
        "gt = g1.twinx()\n",
        "gt = sns.pointplot(x='ProductCD', y='Fraud', data=tmp, color='black', order=['W', 'H',\"C\", \"S\", \"R\"], legend=False)\n",
        "gt.set_ylabel(\"% of Fraud Transactions\", fontsize=16)\n",
        "\n",
        "g1.set_title(\"Product CD by Target(isFraud)\", fontsize=19)\n",
        "g1.set_xlabel(\"ProductCD Name\", fontsize=17)\n",
        "g1.set_ylabel(\"Count\", fontsize=17)\n",
        "\n",
        "plt.subplot(212)\n",
        "g3 = sns.boxenplot(x='ProductCD', y='TransactionAmt', hue='isFraud', \n",
        "              data=df_trans[df_trans['TransactionAmt'] <= 2000] )\n",
        "g3.set_title(\"Transaction Amount Distribuition by ProductCD and Target\", fontsize=20)\n",
        "g3.set_xlabel(\"ProductCD Name\", fontsize=17)\n",
        "g3.set_ylabel(\"Transaction Values\", fontsize=17)\n",
        "\n",
        "plt.subplots_adjust(hspace = 0.6, top = 0.85)\n",
        "\n",
        "plt.show()"
      ],
      "execution_count": 17,
      "outputs": [
        {
          "output_type": "execute_result",
          "data": {
            "text/plain": [
              "<Figure size 1008x720 with 0 Axes>"
            ]
          },
          "metadata": {
            "tags": []
          },
          "execution_count": 17
        },
        {
          "output_type": "execute_result",
          "data": {
            "text/plain": [
              "Text(0.5, 0.98, 'Product Code Distributions')"
            ]
          },
          "metadata": {
            "tags": []
          },
          "execution_count": 17
        },
        {
          "output_type": "execute_result",
          "data": {
            "text/plain": [
              "<matplotlib.axes._subplots.AxesSubplot at 0x7fc58bb7e518>"
            ]
          },
          "metadata": {
            "tags": []
          },
          "execution_count": 17
        },
        {
          "output_type": "execute_result",
          "data": {
            "text/plain": [
              "Text(0.5, 1.0, 'Product Code Distribution')"
            ]
          },
          "metadata": {
            "tags": []
          },
          "execution_count": 17
        },
        {
          "output_type": "execute_result",
          "data": {
            "text/plain": [
              "Text(0.5, 0, 'ProductCD Name')"
            ]
          },
          "metadata": {
            "tags": []
          },
          "execution_count": 17
        },
        {
          "output_type": "execute_result",
          "data": {
            "text/plain": [
              "Text(0, 0.5, 'Count')"
            ]
          },
          "metadata": {
            "tags": []
          },
          "execution_count": 17
        },
        {
          "output_type": "execute_result",
          "data": {
            "text/plain": [
              "(0, 500000)"
            ]
          },
          "metadata": {
            "tags": []
          },
          "execution_count": 17
        },
        {
          "output_type": "execute_result",
          "data": {
            "text/plain": [
              "Text(0.0, 439673, '74.45%')"
            ]
          },
          "metadata": {
            "tags": []
          },
          "execution_count": 17
        },
        {
          "output_type": "execute_result",
          "data": {
            "text/plain": [
              "Text(1.0, 33027, '5.59%')"
            ]
          },
          "metadata": {
            "tags": []
          },
          "execution_count": 17
        },
        {
          "output_type": "execute_result",
          "data": {
            "text/plain": [
              "Text(2.0, 68522, '11.60%')"
            ]
          },
          "metadata": {
            "tags": []
          },
          "execution_count": 17
        },
        {
          "output_type": "execute_result",
          "data": {
            "text/plain": [
              "Text(3.0, 11631, '1.97%')"
            ]
          },
          "metadata": {
            "tags": []
          },
          "execution_count": 17
        },
        {
          "output_type": "execute_result",
          "data": {
            "text/plain": [
              "Text(4.0, 37702, '6.38%')"
            ]
          },
          "metadata": {
            "tags": []
          },
          "execution_count": 17
        },
        {
          "output_type": "execute_result",
          "data": {
            "text/plain": [
              "<matplotlib.axes._subplots.AxesSubplot at 0x7fc58bcc8eb8>"
            ]
          },
          "metadata": {
            "tags": []
          },
          "execution_count": 17
        },
        {
          "output_type": "execute_result",
          "data": {
            "text/plain": [
              "<matplotlib.legend.Legend at 0x7fc58bd58ef0>"
            ]
          },
          "metadata": {
            "tags": []
          },
          "execution_count": 17
        },
        {
          "output_type": "execute_result",
          "data": {
            "text/plain": [
              "Text(0, 0.5, '% of Fraud Transactions')"
            ]
          },
          "metadata": {
            "tags": []
          },
          "execution_count": 17
        },
        {
          "output_type": "execute_result",
          "data": {
            "text/plain": [
              "Text(0.5, 1.0, 'Product CD by Target(isFraud)')"
            ]
          },
          "metadata": {
            "tags": []
          },
          "execution_count": 17
        },
        {
          "output_type": "execute_result",
          "data": {
            "text/plain": [
              "Text(0.5, 0, 'ProductCD Name')"
            ]
          },
          "metadata": {
            "tags": []
          },
          "execution_count": 17
        },
        {
          "output_type": "execute_result",
          "data": {
            "text/plain": [
              "Text(0, 0.5, 'Count')"
            ]
          },
          "metadata": {
            "tags": []
          },
          "execution_count": 17
        },
        {
          "output_type": "execute_result",
          "data": {
            "text/plain": [
              "<matplotlib.axes._subplots.AxesSubplot at 0x7fc58bd55898>"
            ]
          },
          "metadata": {
            "tags": []
          },
          "execution_count": 17
        },
        {
          "output_type": "execute_result",
          "data": {
            "text/plain": [
              "Text(0.5, 1.0, 'Transaction Amount Distribuition by ProductCD and Target')"
            ]
          },
          "metadata": {
            "tags": []
          },
          "execution_count": 17
        },
        {
          "output_type": "execute_result",
          "data": {
            "text/plain": [
              "Text(0.5, 0, 'ProductCD Name')"
            ]
          },
          "metadata": {
            "tags": []
          },
          "execution_count": 17
        },
        {
          "output_type": "execute_result",
          "data": {
            "text/plain": [
              "Text(0, 0.5, 'Transaction Values')"
            ]
          },
          "metadata": {
            "tags": []
          },
          "execution_count": 17
        },
        {
          "output_type": "display_data",
          "data": {
            "image/png": "[encoded data removed]",
            "text/plain": [
              "<Figure size 1008x720 with 4 Axes>"
            ]
          },
          "metadata": {
            "tags": []
          }
        }
      ]
    },
    {
      "cell_type": "code",
      "metadata": {
        "id": "nwaXzYXouSaB",
        "colab_type": "code",
        "colab": {
          "base_uri": "https://localhost:8080/",
          "height": 252
        },
        "outputId": "3ebda3f9-88d4-4c86-ebf8-e02b8da60bcb"
      },
      "source": [
        "## Knowning the Card Features\n",
        "summary_df(df_trans[['card1', 'card2', 'card3','card4', 'card5', 'card6']])"
      ],
      "execution_count": 18,
      "outputs": [
        {
          "output_type": "stream",
          "text": [
            "Dataset Shape: (590540, 6)\n"
          ],
          "name": "stdout"
        },
        {
          "output_type": "execute_result",
          "data": {
            "text/html": [
              "<div>\n",
              "<style scoped>\n",
              "    .dataframe tbody tr th:only-of-type {\n",
              "        vertical-align: middle;\n",
              "    }\n",
              "\n",
              "    .dataframe tbody tr th {\n",
              "        vertical-align: top;\n",
              "    }\n",
              "\n",
              "    .dataframe thead th {\n",
              "        text-align: right;\n",
              "    }\n",
              "</style>\n",
              "<table border=\"1\" class=\"dataframe\">\n",
              "  <thead>\n",
              "    <tr style=\"text-align: right;\">\n",
              "      <th></th>\n",
              "      <th>Name</th>\n",
              "      <th>dtypes</th>\n",
              "      <th>Missing</th>\n",
              "      <th>Uniques</th>\n",
              "      <th>First Value</th>\n",
              "      <th>Second Value</th>\n",
              "      <th>Third Value</th>\n",
              "      <th>Entropy</th>\n",
              "    </tr>\n",
              "  </thead>\n",
              "  <tbody>\n",
              "    <tr>\n",
              "      <th>0</th>\n",
              "      <td>card1</td>\n",
              "      <td>int16</td>\n",
              "      <td>0</td>\n",
              "      <td>13553</td>\n",
              "      <td>13926</td>\n",
              "      <td>2755</td>\n",
              "      <td>4663</td>\n",
              "      <td>9.97</td>\n",
              "    </tr>\n",
              "    <tr>\n",
              "      <th>1</th>\n",
              "      <td>card2</td>\n",
              "      <td>float16</td>\n",
              "      <td>8933</td>\n",
              "      <td>500</td>\n",
              "      <td>NaN</td>\n",
              "      <td>404</td>\n",
              "      <td>490</td>\n",
              "      <td>6.32</td>\n",
              "    </tr>\n",
              "    <tr>\n",
              "      <th>2</th>\n",
              "      <td>card3</td>\n",
              "      <td>float16</td>\n",
              "      <td>1565</td>\n",
              "      <td>114</td>\n",
              "      <td>150</td>\n",
              "      <td>150</td>\n",
              "      <td>150</td>\n",
              "      <td>0.68</td>\n",
              "    </tr>\n",
              "    <tr>\n",
              "      <th>3</th>\n",
              "      <td>card4</td>\n",
              "      <td>object</td>\n",
              "      <td>1577</td>\n",
              "      <td>4</td>\n",
              "      <td>discover</td>\n",
              "      <td>mastercard</td>\n",
              "      <td>visa</td>\n",
              "      <td>1.09</td>\n",
              "    </tr>\n",
              "    <tr>\n",
              "      <th>4</th>\n",
              "      <td>card5</td>\n",
              "      <td>float16</td>\n",
              "      <td>4259</td>\n",
              "      <td>119</td>\n",
              "      <td>142</td>\n",
              "      <td>102</td>\n",
              "      <td>166</td>\n",
              "      <td>2.66</td>\n",
              "    </tr>\n",
              "    <tr>\n",
              "      <th>5</th>\n",
              "      <td>card6</td>\n",
              "      <td>object</td>\n",
              "      <td>1571</td>\n",
              "      <td>4</td>\n",
              "      <td>credit</td>\n",
              "      <td>credit</td>\n",
              "      <td>debit</td>\n",
              "      <td>0.82</td>\n",
              "    </tr>\n",
              "  </tbody>\n",
              "</table>\n",
              "</div>"
            ],
            "text/plain": [
              "    Name   dtypes  Missing  ...  Second Value Third Value Entropy\n",
              "0  card1    int16        0  ...          2755        4663    9.97\n",
              "1  card2  float16     8933  ...           404         490    6.32\n",
              "2  card3  float16     1565  ...           150         150    0.68\n",
              "3  card4   object     1577  ...    mastercard        visa    1.09\n",
              "4  card5  float16     4259  ...           102         166    2.66\n",
              "5  card6   object     1571  ...        credit       debit    0.82\n",
              "\n",
              "[6 rows x 8 columns]"
            ]
          },
          "metadata": {
            "tags": []
          },
          "execution_count": 18
        }
      ]
    },
    {
      "cell_type": "code",
      "metadata": {
        "id": "AxUkWgXWuSaE",
        "colab_type": "code",
        "colab": {
          "base_uri": "https://localhost:8080/",
          "height": 153
        },
        "outputId": "a18da886-0ba0-4507-8cfb-c724025b6699"
      },
      "source": [
        "############ Cards distribution by quantiles\n",
        "\n",
        "print(\"Card Features Quantiles are: \")\n",
        "print(df_trans[['card1', 'card2', 'card3', 'card5']].quantile([.1, .25, .5, .75, .975, .99]))"
      ],
      "execution_count": 19,
      "outputs": [
        {
          "output_type": "stream",
          "text": [
            "Card Features Quantiles are: \n",
            "         card1  card2  card3  card5\n",
            "0.100   2803.0  111.0  150.0  126.0\n",
            "0.250   6019.0  214.0  150.0  166.0\n",
            "0.500   9678.0  361.0  150.0  226.0\n",
            "0.750  14184.0  512.0  150.0  226.0\n",
            "0.975  18018.0  583.0  185.0  226.0\n",
            "0.990  18238.0  583.0  185.0  226.0\n"
          ],
          "name": "stdout"
        }
      ]
    },
    {
      "cell_type": "markdown",
      "metadata": {
        "id": "BScosnpMuSaG",
        "colab_type": "text"
      },
      "source": [
        "######### Categorical Features \n",
        "ProductCD\n",
        "emaildomain\n",
        "card1 - card6\n",
        "addr1, addr2\n",
        "P_emaildomain\n",
        "R_emaildomain\n",
        "M1 - M9\n",
        "DeviceType\n",
        "DeviceInfo\n",
        "id_12 - id_38"
      ]
    },
    {
      "cell_type": "code",
      "metadata": {
        "id": "DFu5Xx8cuSaG",
        "colab_type": "code",
        "colab": {
          "base_uri": "https://localhost:8080/",
          "height": 405
        },
        "outputId": "3616f2a1-9899-46f8-8441-619262b0383b"
      },
      "source": [
        "fig, ax = plt.subplots(1, 2, figsize=(20,5))\n",
        "\n",
        "sns.countplot(x=\"ProductCD\", ax=ax[0], hue = \"isFraud\", data=df_trans)\n",
        "ax[0].set_title('ProductCD train', fontsize=14)\n",
        "sns.countplot(x=\"ProductCD\", ax=ax[1], data=df_trans_test)\n",
        "ax[1].set_title('ProductCD test', fontsize=14)\n",
        "plt.show()"
      ],
      "execution_count": 20,
      "outputs": [
        {
          "output_type": "execute_result",
          "data": {
            "text/plain": [
              "<matplotlib.axes._subplots.AxesSubplot at 0x7fc58babed30>"
            ]
          },
          "metadata": {
            "tags": []
          },
          "execution_count": 20
        },
        {
          "output_type": "execute_result",
          "data": {
            "text/plain": [
              "Text(0.5, 1.0, 'ProductCD train')"
            ]
          },
          "metadata": {
            "tags": []
          },
          "execution_count": 20
        },
        {
          "output_type": "execute_result",
          "data": {
            "text/plain": [
              "<matplotlib.axes._subplots.AxesSubplot at 0x7fc58b399ac8>"
            ]
          },
          "metadata": {
            "tags": []
          },
          "execution_count": 20
        },
        {
          "output_type": "execute_result",
          "data": {
            "text/plain": [
              "Text(0.5, 1.0, 'ProductCD test')"
            ]
          },
          "metadata": {
            "tags": []
          },
          "execution_count": 20
        },
        {
          "output_type": "display_data",
          "data": {
            "image/png": "[encoded data removed]",
            "text/plain": [
              "<Figure size 1440x360 with 2 Axes>"
            ]
          },
          "metadata": {
            "tags": []
          }
        }
      ]
    },
    {
      "cell_type": "code",
      "metadata": {
        "scrolled": false,
        "id": "qwdtKt_WuSaI",
        "colab_type": "code",
        "colab": {
          "base_uri": "https://localhost:8080/",
          "height": 711
        },
        "outputId": "a6ee3cdc-8b8f-4171-f2cd-ebaf57df6eb5"
      },
      "source": [
        "fig, ax = plt.subplots(2, 2,figsize=(20,10))\n",
        "\n",
        "sns.countplot(x=\"card4\", ax=ax[0,0], data=df_trans.loc[df_trans['isFraud'] == 0])\n",
        "ax[0,0].set_title('card4 isFraud=0', fontsize=14)\n",
        "sns.countplot(x=\"card4\", ax=ax[0,1], data=df_trans.loc[df_trans['isFraud'] == 1])\n",
        "ax[0,1].set_title('card4 isFraud=1', fontsize=14)\n",
        "sns.countplot(x=\"card6\", ax=ax[1,0], data=df_trans.loc[df_trans['isFraud'] == 0])\n",
        "ax[1,0].set_title('card6 isFraud=0', fontsize=14)\n",
        "sns.countplot(x=\"card6\", ax=ax[1,1], data=df_trans.loc[df_trans['isFraud'] == 1])\n",
        "ax[1,1].set_title('card6 isFraud=1', fontsize=14)\n",
        "plt.show()"
      ],
      "execution_count": 21,
      "outputs": [
        {
          "output_type": "execute_result",
          "data": {
            "text/plain": [
              "<matplotlib.axes._subplots.AxesSubplot at 0x7fc58ba5f400>"
            ]
          },
          "metadata": {
            "tags": []
          },
          "execution_count": 21
        },
        {
          "output_type": "execute_result",
          "data": {
            "text/plain": [
              "Text(0.5, 1.0, 'card4 isFraud=0')"
            ]
          },
          "metadata": {
            "tags": []
          },
          "execution_count": 21
        },
        {
          "output_type": "execute_result",
          "data": {
            "text/plain": [
              "<matplotlib.axes._subplots.AxesSubplot at 0x7fc58b3d9f60>"
            ]
          },
          "metadata": {
            "tags": []
          },
          "execution_count": 21
        },
        {
          "output_type": "execute_result",
          "data": {
            "text/plain": [
              "Text(0.5, 1.0, 'card4 isFraud=1')"
            ]
          },
          "metadata": {
            "tags": []
          },
          "execution_count": 21
        },
        {
          "output_type": "execute_result",
          "data": {
            "text/plain": [
              "<matplotlib.axes._subplots.AxesSubplot at 0x7fc58ba164e0>"
            ]
          },
          "metadata": {
            "tags": []
          },
          "execution_count": 21
        },
        {
          "output_type": "execute_result",
          "data": {
            "text/plain": [
              "Text(0.5, 1.0, 'card6 isFraud=0')"
            ]
          },
          "metadata": {
            "tags": []
          },
          "execution_count": 21
        },
        {
          "output_type": "execute_result",
          "data": {
            "text/plain": [
              "<matplotlib.axes._subplots.AxesSubplot at 0x7fc58b9e6a58>"
            ]
          },
          "metadata": {
            "tags": []
          },
          "execution_count": 21
        },
        {
          "output_type": "execute_result",
          "data": {
            "text/plain": [
              "Text(0.5, 1.0, 'card6 isFraud=1')"
            ]
          },
          "metadata": {
            "tags": []
          },
          "execution_count": 21
        },
        {
          "output_type": "display_data",
          "data": {
            "image/png": "[encoded data removed]",
            "text/plain": [
              "<Figure size 1440x720 with 4 Axes>"
            ]
          },
          "metadata": {
            "tags": []
          }
        }
      ]
    },
    {
      "cell_type": "code",
      "metadata": {
        "id": "3aHxoi6ouSaK",
        "colab_type": "code",
        "colab": {
          "base_uri": "https://localhost:8080/",
          "height": 388
        },
        "outputId": "3d533539-a6ee-46bd-bcba-2a1e36d9df6d"
      },
      "source": [
        "###By Device Type\n",
        "fig, ax = plt.subplots(1, 2, figsize=(20,5))\n",
        "\n",
        "ax[0] = sns.countplot(x=\"DeviceType\",ax=ax[0] ,data=df_id)\n",
        "ax[0].set_title('DeviceType Train', fontsize=14)\n",
        "ax[1] = sns.countplot(x=\"DeviceType\", ax=ax[1],data=df_id_test)\n",
        "ax[1].set_title('DeviceType Test', fontsize=14)\n",
        "plt.show()"
      ],
      "execution_count": 22,
      "outputs": [
        {
          "output_type": "execute_result",
          "data": {
            "text/plain": [
              "Text(0.5, 1.0, 'DeviceType Train')"
            ]
          },
          "metadata": {
            "tags": []
          },
          "execution_count": 22
        },
        {
          "output_type": "execute_result",
          "data": {
            "text/plain": [
              "Text(0.5, 1.0, 'DeviceType Test')"
            ]
          },
          "metadata": {
            "tags": []
          },
          "execution_count": 22
        },
        {
          "output_type": "display_data",
          "data": {
            "image/png": "[encoded data removed]",
            "text/plain": [
              "<Figure size 1440x360 with 2 Axes>"
            ]
          },
          "metadata": {
            "tags": []
          }
        }
      ]
    },
    {
      "cell_type": "markdown",
      "metadata": {
        "id": "bHN7RCEQuSaL",
        "colab_type": "text"
      },
      "source": [
        "# Data Cleaning, Feature engineering and Model Building"
      ]
    },
    {
      "cell_type": "code",
      "metadata": {
        "id": "qiCDUu5ExEX5",
        "colab_type": "code",
        "colab": {
          "base_uri": "https://localhost:8080/",
          "height": 34
        },
        "outputId": "9249a01f-5be4-4e98-d5cc-b5430329ae59"
      },
      "source": [
        "import os\n",
        "os.getcwd()"
      ],
      "execution_count": 23,
      "outputs": [
        {
          "output_type": "execute_result",
          "data": {
            "text/plain": [
              "'/content/ieee-fraud-detection'"
            ]
          },
          "metadata": {
            "tags": []
          },
          "execution_count": 23
        }
      ]
    },
    {
      "cell_type": "code",
      "metadata": {
        "id": "qw822EZZvhSM",
        "colab_type": "code",
        "colab": {}
      },
      "source": [
        "# # !pip install kaggle\n",
        "# api_token = {\"username\":\"sudheerraghu\",\"key\":\"da20c9fa7746bbaf995b9540e671b436\"}\n",
        "# import json\n",
        "# import zipfile\n",
        "# import os\n",
        "# filename='/root/.kaggle/kaggle.json'\n",
        "# os.makedirs(os.path.dirname(filename), exist_ok=True)\n",
        "# with open(filename, 'w') as file:\n",
        "#     json.dump(api_token, file)\n",
        "# !chmod 600 filename\n",
        "# !kaggle config path -p /content\n",
        "# !kaggle competitions download -c ieee-fraud-detection\n",
        "\n",
        "# if not os.path.exists(\"/content/ieee-fraud-detection\"):\n",
        "#     os.makedirs(\"/content/ieee-fraud-detection\")\n",
        "# os.chdir('/content/ieee-fraud-detection')\n",
        "\n",
        "# for file in os.listdir():\n",
        "#     zip_ref = zipfile.ZipFile(file, 'r')\n",
        "#     zip_ref.extractall()\n",
        "#     zip_ref.close()"
      ],
      "execution_count": 0,
      "outputs": []
    },
    {
      "cell_type": "code",
      "metadata": {
        "id": "v_koihDouSaM",
        "colab_type": "code",
        "colab": {
          "base_uri": "https://localhost:8080/",
          "height": 102
        },
        "outputId": "b1dee094-80e9-4724-e7ca-a8af9cef89f6"
      },
      "source": [
        "########### Merging the datasets for modelling #########################\n",
        "df_id,df_trans, df_id_test, df_trans_test = read_data()\n",
        "\n",
        "train = pd.merge(df_trans, df_id, on='TransactionID', how='left')\n",
        "test = pd.merge(df_trans_test, df_id_test, on='TransactionID', how='left')\n",
        "\n",
        "train = reduce_mem_usage(train)\n",
        "test = reduce_mem_usage(test)\n",
        "y_train = train['isFraud'].astype('uint8')\n",
        "\n",
        "del df_trans,df_trans_test,df_id,df_id_test\n",
        "gc.collect()"
      ],
      "execution_count": 25,
      "outputs": [
        {
          "output_type": "stream",
          "text": [
            "Train Data loaded successfully\n",
            "Test Data loaded successfully\n",
            "Mem. usage decreased to 650.48 Mb (66.8% reduction)\n",
            "Mem. usage decreased to 565.37 Mb (66.3% reduction)\n"
          ],
          "name": "stdout"
        },
        {
          "output_type": "execute_result",
          "data": {
            "text/plain": [
              "9846"
            ]
          },
          "metadata": {
            "tags": []
          },
          "execution_count": 25
        }
      ]
    },
    {
      "cell_type": "code",
      "metadata": {
        "id": "FnngFoEeuSaO",
        "colab_type": "code",
        "colab": {
          "base_uri": "https://localhost:8080/",
          "height": 544
        },
        "outputId": "88a0b68c-969a-487d-ddfb-c243d72ad334"
      },
      "source": [
        "########### Grouping R email domains\n",
        "\n",
        "##### Train Data\n",
        "train.loc[train['R_emaildomain'].isin(['gmail.com', 'gmail']),'R_emaildomain'] = 'Google'\n",
        "\n",
        "train.loc[train['R_emaildomain'].isin(['yahoo.com', 'yahoo.com.mx',  'yahoo.co.uk',\n",
        "                                             'yahoo.co.jp', 'yahoo.de', 'yahoo.fr',\n",
        "                                             'yahoo.es']), 'R_emaildomain'] = 'Yahoo Mail'\n",
        "train.loc[train['R_emaildomain'].isin(['hotmail.com','outlook.com','msn.com', 'live.com.mx', \n",
        "                                             'hotmail.es','hotmail.co.uk', 'hotmail.de',\n",
        "                                             'outlook.es', 'live.com', 'live.fr',\n",
        "                                             'hotmail.fr']), 'R_emaildomain'] = 'Microsoft'\n",
        "train.loc[train.R_emaildomain.isin(train.R_emaildomain\\\n",
        "                                         .value_counts()[train.R_emaildomain.value_counts() <= 300 ]\\\n",
        "                                         .index), 'R_emaildomain'] = \"Others\"\n",
        "train.R_emaildomain.fillna(\"NoInf\", inplace=True)\n",
        "\n",
        "train.R_emaildomain.value_counts()\n",
        "\n",
        "##### Test Data\n",
        "test.loc[test['R_emaildomain'].isin(['gmail.com', 'gmail']),'R_emaildomain'] = 'Google'\n",
        "\n",
        "test.loc[test['R_emaildomain'].isin(['yahoo.com', 'yahoo.com.mx',  'yahoo.co.uk',\n",
        "                                             'yahoo.co.jp', 'yahoo.de', 'yahoo.fr',\n",
        "                                             'yahoo.es']), 'R_emaildomain'] = 'Yahoo Mail'\n",
        "test.loc[test['R_emaildomain'].isin(['hotmail.com','outlook.com','msn.com', 'live.com.mx', \n",
        "                                             'hotmail.es','hotmail.co.uk', 'hotmail.de',\n",
        "                                             'outlook.es', 'live.com', 'live.fr',\n",
        "                                             'hotmail.fr']), 'R_emaildomain'] = 'Microsoft'\n",
        "test.loc[test.R_emaildomain.isin(test.R_emaildomain\\\n",
        "                                         .value_counts()[test.R_emaildomain.value_counts() <= 300 ]\\\n",
        "                                         .index), 'R_emaildomain'] = \"Others\"\n",
        "test.R_emaildomain.fillna(\"NoInf\", inplace=True)\n",
        "\n",
        "test.R_emaildomain.value_counts()"
      ],
      "execution_count": 26,
      "outputs": [
        {
          "output_type": "execute_result",
          "data": {
            "text/plain": [
              "NoInf            453249\n",
              "Google            57242\n",
              "Microsoft         33604\n",
              "anonymous.com     20529\n",
              "Yahoo Mail        13691\n",
              "aol.com            3701\n",
              "Others             2275\n",
              "comcast.net        1812\n",
              "icloud.com         1398\n",
              "verizon.net         620\n",
              "me.com              556\n",
              "sbcglobal.net       552\n",
              "cox.net             459\n",
              "att.net             430\n",
              "bellsouth.net       422\n",
              "Name: R_emaildomain, dtype: int64"
            ]
          },
          "metadata": {
            "tags": []
          },
          "execution_count": 26
        },
        {
          "output_type": "execute_result",
          "data": {
            "text/plain": [
              "NoInf            370821\n",
              "Google            61839\n",
              "Microsoft         31846\n",
              "anonymous.com     19115\n",
              "Yahoo Mail        11221\n",
              "aol.com            3538\n",
              "Others             2248\n",
              "comcast.net        1701\n",
              "icloud.com         1422\n",
              "sbcglobal.net       611\n",
              "verizon.net         582\n",
              "me.com              539\n",
              "att.net             440\n",
              "cox.net             395\n",
              "bellsouth.net       373\n",
              "Name: R_emaildomain, dtype: int64"
            ]
          },
          "metadata": {
            "tags": []
          },
          "execution_count": 26
        }
      ]
    },
    {
      "cell_type": "code",
      "metadata": {
        "scrolled": false,
        "id": "rnSUDTB-uSaV",
        "colab_type": "code",
        "colab": {
          "base_uri": "https://localhost:8080/",
          "height": 680
        },
        "outputId": "e9567d2c-ee21-4654-a93b-1569098a38ed"
      },
      "source": [
        "########## Grouping P email domains\n",
        "##### Train data\n",
        "\n",
        "train.loc[train['P_emaildomain'].isin(['gmail.com', 'gmail']),'P_emaildomain'] = 'Google'\n",
        "\n",
        "train.loc[train['P_emaildomain'].isin(['yahoo.com', 'yahoo.com.mx',  'yahoo.co.uk',\n",
        "                                         'yahoo.co.jp', 'yahoo.de', 'yahoo.fr','ymail.com',\n",
        "                                         'yahoo.es']), 'P_emaildomain'] = 'Yahoo Mail'\n",
        "train.loc[train['P_emaildomain'].isin(['hotmail.com','outlook.com','msn.com', 'live.com.mx', \n",
        "                                         'hotmail.es','hotmail.co.uk', 'hotmail.de',\n",
        "                                         'outlook.es', 'live.com', 'live.fr',\n",
        "                                         'hotmail.fr']), 'P_emaildomain'] = 'Microsoft'\n",
        "train.loc[train.P_emaildomain.isin(train.P_emaildomain\\\n",
        "                                         .value_counts()[train.P_emaildomain.value_counts() <= 500 ]\\\n",
        "                                         .index), 'P_emaildomain'] = \"Others\"\n",
        "train.P_emaildomain.fillna(\"NoInf\", inplace=True)\n",
        "\n",
        "train.P_emaildomain.value_counts()\n",
        "\n",
        "############ Test Data\n",
        "\n",
        "test.loc[test['P_emaildomain'].isin(['gmail.com', 'gmail']),'P_emaildomain'] = 'Google'\n",
        "\n",
        "test.loc[test['P_emaildomain'].isin(['yahoo.com', 'yahoo.com.mx',  'yahoo.co.uk',\n",
        "                                         'yahoo.co.jp', 'yahoo.de', 'yahoo.fr','ymail.com',\n",
        "                                         'yahoo.es']), 'P_emaildomain'] = 'Yahoo Mail'\n",
        "test.loc[test['P_emaildomain'].isin(['hotmail.com','outlook.com','msn.com', 'live.com.mx', \n",
        "                                         'hotmail.es','hotmail.co.uk', 'hotmail.de',\n",
        "                                         'outlook.es', 'live.com', 'live.fr',\n",
        "                                         'hotmail.fr']), 'P_emaildomain'] = 'Microsoft'\n",
        "test.loc[test.P_emaildomain.isin(test.P_emaildomain\\\n",
        "                                         .value_counts()[test.P_emaildomain.value_counts() <= 500 ]\\\n",
        "                                         .index), 'P_emaildomain'] = \"Others\"\n",
        "test.P_emaildomain.fillna(\"NoInf\", inplace=True)\n",
        "\n",
        "test.P_emaildomain.value_counts()\n",
        "\n"
      ],
      "execution_count": 27,
      "outputs": [
        {
          "output_type": "execute_result",
          "data": {
            "text/plain": [
              "Google            228851\n",
              "Yahoo Mail        105305\n",
              "NoInf              94456\n",
              "Microsoft          59477\n",
              "anonymous.com      36998\n",
              "aol.com            28289\n",
              "comcast.net         7888\n",
              "icloud.com          6267\n",
              "Others              4913\n",
              "att.net             4033\n",
              "sbcglobal.net       2970\n",
              "verizon.net         2705\n",
              "bellsouth.net       1909\n",
              "me.com              1522\n",
              "cox.net             1393\n",
              "optonline.net       1011\n",
              "charter.net          816\n",
              "rocketmail.com       664\n",
              "mail.com             559\n",
              "earthlink.net        514\n",
              "Name: P_emaildomain, dtype: int64"
            ]
          },
          "metadata": {
            "tags": []
          },
          "execution_count": 27
        },
        {
          "output_type": "execute_result",
          "data": {
            "text/plain": [
              "Google           207945\n",
              "Yahoo Mail        85338\n",
              "NoInf             69192\n",
              "Microsoft         53510\n",
              "anonymous.com     34064\n",
              "aol.com           24048\n",
              "comcast.net        6586\n",
              "icloud.com         6049\n",
              "Others             5109\n",
              "att.net            3614\n",
              "sbcglobal.net      2797\n",
              "verizon.net        2306\n",
              "bellsouth.net      1528\n",
              "cox.net            1264\n",
              "me.com             1191\n",
              "optonline.net       926\n",
              "charter.net         627\n",
              "mail.com            597\n",
              "Name: P_emaildomain, dtype: int64"
            ]
          },
          "metadata": {
            "tags": []
          },
          "execution_count": 27
        }
      ]
    },
    {
      "cell_type": "code",
      "metadata": {
        "id": "4bKEDC2quSaY",
        "colab_type": "code",
        "colab": {
          "base_uri": "https://localhost:8080/",
          "height": 272
        },
        "outputId": "b6890de3-d71c-434c-9e7e-1f3b53bc2f7f"
      },
      "source": [
        "##### Grouping device OS in the column id_30\n",
        "\n",
        "########## Train Data\n",
        "train['id_30'] = train.id_30.str.lower()\n",
        "train.id_30.fillna('',inplace=True)\n",
        "train['id_30'] = np.where(train['id_30'] == '','other',train['id_30'])\n",
        "train.loc[train.id_30.str.contains('ios'),'id_30'] = 'ios'\n",
        "train.loc[train.id_30.str.contains('android'),'id_30'] = 'android'\n",
        "train.loc[train.id_30.str.contains('windows'),'id_30'] = 'windows'\n",
        "train.loc[train.id_30.str.contains('mac'),'id_30'] = 'mac'\n",
        "\n",
        "train.id_30.value_counts()\n",
        "\n",
        "########## Test Data\n",
        "\n",
        "test['id_30'] = test.id_30.str.lower()\n",
        "test.id_30.fillna('',inplace=True)\n",
        "test['id_30'] = np.where(test['id_30'] == '','other',test['id_30'])\n",
        "test.loc[test.id_30.str.contains('ios'),'id_30'] = 'ios'\n",
        "test.loc[test.id_30.str.contains('android'),'id_30'] = 'android'\n",
        "test.loc[test.id_30.str.contains('windows'),'id_30'] = 'windows'\n",
        "test.loc[test.id_30.str.contains('mac'),'id_30'] = 'mac'\n",
        "\n",
        "test.id_30.value_counts()"
      ],
      "execution_count": 28,
      "outputs": [
        {
          "output_type": "execute_result",
          "data": {
            "text/plain": [
              "other      512990\n",
              "windows     36739\n",
              "ios         19782\n",
              "mac         13580\n",
              "android      6303\n",
              "linux        1136\n",
              "func           10\n",
              "Name: id_30, dtype: int64"
            ]
          },
          "metadata": {
            "tags": []
          },
          "execution_count": 28
        },
        {
          "output_type": "execute_result",
          "data": {
            "text/plain": [
              "other      436036\n",
              "windows     33038\n",
              "ios         18720\n",
              "mac         12054\n",
              "android      5480\n",
              "linux        1352\n",
              "func           11\n",
              "Name: id_30, dtype: int64"
            ]
          },
          "metadata": {
            "tags": []
          },
          "execution_count": 28
        }
      ]
    },
    {
      "cell_type": "code",
      "metadata": {
        "scrolled": false,
        "id": "DXvFgnuXuSaa",
        "colab_type": "code",
        "colab": {}
      },
      "source": [
        "############ Cleaning device info\n",
        "\n",
        "train['DeviceInfo'] = train.DeviceInfo.str.lower()\n",
        "train.DeviceInfo.fillna('',inplace=True)\n",
        "train['DeviceInfo'] = np.where(train['DeviceInfo'] == '','other',train['DeviceInfo'])\n",
        "train.loc[train.DeviceInfo.str.contains('alcatel'),'DeviceInfo'] = 'alcatel'\n",
        "train.loc[train.DeviceInfo.str.contains('acquaris'),'DeviceInfo'] = 'acquaris'\n",
        "train.loc[train.DeviceInfo.str.contains('asus'),'DeviceInfo'] = 'asus'\n",
        "train.loc[train.DeviceInfo.str.contains('samsung'),'DeviceInfo'] = 'samsung'\n",
        "train.loc[train.DeviceInfo.str.contains('pixel'),'DeviceInfo'] = 'pixel'\n",
        "train.loc[train.DeviceInfo.str.contains('moto'),'DeviceInfo'] = 'moto'\n",
        "train.loc[train.DeviceInfo.str.contains('lenovo'),'DeviceInfo'] = 'lenovo'\n",
        "train.loc[train.DeviceInfo.str.contains('huawei'),'DeviceInfo'] = 'huawei'\n",
        "train.loc[train.DeviceInfo.str.contains('nexus'),'DeviceInfo'] = 'nexus'\n",
        "train.loc[train.DeviceInfo.str.contains('redmi'),'DeviceInfo'] = 'redmi'\n",
        "\n",
        "train.loc[train.DeviceInfo.str.startswith('lg'),'DeviceInfo'] = 'lg'\n",
        "train.loc[train.DeviceInfo.str.startswith('sm'),'DeviceInfo'] = 'samsung'\n",
        "train.loc[train.DeviceInfo.str.startswith('zte'),'DeviceInfo'] = 'zte'\n",
        "train.loc[train.DeviceInfo.str.startswith('xt'),'DeviceInfo'] = 'xt'\n",
        "\n",
        "# train.DeviceInfo.value_counts()\n",
        "\n",
        "########## Test Data\n",
        "\n",
        "test['DeviceInfo'] = test.DeviceInfo.str.lower()\n",
        "test.DeviceInfo.fillna('',inplace=True)\n",
        "test['DeviceInfo'] = np.where(test['DeviceInfo'] == '','other',test['DeviceInfo'])\n",
        "test.loc[test.DeviceInfo.str.contains('alcatel'),'DeviceInfo'] = 'alcatel'\n",
        "test.loc[test.DeviceInfo.str.contains('acquaris'),'DeviceInfo'] = 'acquaris'\n",
        "test.loc[test.DeviceInfo.str.contains('asus'),'DeviceInfo'] = 'asus'\n",
        "test.loc[test.DeviceInfo.str.contains('samsung'),'DeviceInfo'] = 'samsung'\n",
        "test.loc[test.DeviceInfo.str.contains('pixel'),'DeviceInfo'] = 'pixel'\n",
        "test.loc[test.DeviceInfo.str.contains('moto'),'DeviceInfo'] = 'moto'\n",
        "test.loc[test.DeviceInfo.str.contains('lenovo'),'DeviceInfo'] = 'lenovo'\n",
        "test.loc[test.DeviceInfo.str.contains('huawei'),'DeviceInfo'] = 'huawei'\n",
        "test.loc[test.DeviceInfo.str.contains('nexus'),'DeviceInfo'] = 'nexus'\n",
        "test.loc[test.DeviceInfo.str.contains('redmi'),'DeviceInfo'] = 'redmi'\n",
        "\n",
        "test.loc[test.DeviceInfo.str.startswith('lg'),'DeviceInfo'] = 'lg'\n",
        "test.loc[test.DeviceInfo.str.startswith('sm'),'DeviceInfo'] = 'samsung'\n",
        "test.loc[test.DeviceInfo.str.startswith('zte'),'DeviceInfo'] = 'zte'\n",
        "test.loc[test.DeviceInfo.str.startswith('xt'),'DeviceInfo'] = 'xt'\n",
        "\n",
        "# test.DeviceInfo.value_counts()"
      ],
      "execution_count": 0,
      "outputs": []
    },
    {
      "cell_type": "code",
      "metadata": {
        "scrolled": false,
        "id": "honC12tpuSac",
        "colab_type": "code",
        "colab": {}
      },
      "source": [
        "############ Cleaning id_31\n",
        "\n",
        "############ Train Data\n",
        "train['id_31'] = train.id_31.str.lower()\n",
        "train.id_31.fillna('',inplace=True)\n",
        "train['id_31'] = np.where(train['id_31'] == '','other',train['id_31'])\n",
        "train.loc[train.id_31.str.contains('chrome'),'id_31'] = 'chrome'\n",
        "train.loc[train.id_31.str.contains('firefox'),'id_31'] = 'firefox'\n",
        "train.loc[train.id_31.str.contains('opera'),'id_31'] = 'opera'\n",
        "train.loc[train.id_31.str.contains('samsung'),'id_31'] = 'samsung'\n",
        "train.loc[train.id_31.str.contains('safari'),'id_31'] = 'safari'\n",
        "train.loc[train.id_31.str.contains('edge'),'id_31'] = 'edge'\n",
        "\n",
        "# train.DeviceInfo.value_counts()\n",
        "\n",
        "############ Test Data\n",
        "test['id_31'] = test.id_31.str.lower()\n",
        "test.id_31.fillna('',inplace=True)\n",
        "test['id_31'] = np.where(test['id_31'] == '','other',test['id_31'])\n",
        "test.loc[test.id_31.str.contains('chrome'),'id_31'] = 'chrome'\n",
        "test.loc[test.id_31.str.contains('firefox'),'id_31'] = 'firefox'\n",
        "test.loc[test.id_31.str.contains('opera'),'id_31'] = 'opera'\n",
        "test.loc[test.id_31.str.contains('samsung'),'id_31'] = 'samsung'\n",
        "test.loc[test.id_31.str.contains('safari'),'id_31'] = 'safari'\n",
        "test.loc[test.id_31.str.contains('edge'),'id_31'] = 'edge'\n",
        "\n",
        "# test.DeviceInfo.value_counts()"
      ],
      "execution_count": 0,
      "outputs": []
    },
    {
      "cell_type": "code",
      "metadata": {
        "scrolled": true,
        "id": "A9NNGXrTuSae",
        "colab_type": "code",
        "colab": {}
      },
      "source": [
        "########### Cleaning id_33\n",
        "\n",
        "############ Train Data\n",
        "train['id_33'] = train.id_33.str.lower()\n",
        "train.id_33.fillna('0x0',inplace=True)\n",
        "# train['id_33'] = np.where(train['id_33'] == '','0',train['id_33'])\n",
        "train['id_33_x'] = train['id_33'].str.split('x',expand = True)[0]\n",
        "train['id_33_y'] = train['id_33'].str.split('x',expand = True)[1]\n",
        "\n",
        "train['id_33_y'].replace(np.nan, 0, inplace=True)\n",
        "\n",
        "train['id_33_x'] = train['id_33_x'].astype(int)\n",
        "train['id_33_y'] = train['id_33_y'].astype(int)\n",
        "\n",
        "train.drop('id_33',axis=1,inplace=True)\n",
        "\n",
        "############ test Data\n",
        "test['id_33'] = test.id_33.str.lower()\n",
        "test.id_33.fillna('0x0',inplace=True)\n",
        "# test['id_33'] = np.where(test['id_33'] == '','0',test['id_33'])\n",
        "test['id_33_x'] = test['id_33'].str.split('x',expand = True)[0]\n",
        "test['id_33_y'] = test['id_33'].str.split('x',expand = True)[1]\n",
        "\n",
        "test['id_33_x'] = test['id_33_x'].astype(int)\n",
        "test['id_33_y'] = test['id_33_y'].astype(int)\n",
        "\n",
        "test.drop('id_33',axis=1,inplace=True)"
      ],
      "execution_count": 0,
      "outputs": []
    },
    {
      "cell_type": "code",
      "metadata": {
        "id": "YycWh1VduSag",
        "colab_type": "code",
        "colab": {
          "base_uri": "https://localhost:8080/",
          "height": 170
        },
        "outputId": "be07044a-d004-45d8-b335-ba8ad7a5d176"
      },
      "source": [
        "########### Label Encoding the String columns in train and test sets\n",
        "\n",
        "from sklearn import preprocessing\n",
        "le = preprocessing.LabelEncoder()\n",
        "\n",
        "## Train Data\n",
        "str_columns = train.select_dtypes(include = 'object').columns\n",
        "str_columns\n",
        "for f in str_columns:\n",
        "    train[f] = le.fit_transform(list(train[f]))\n",
        "\n",
        "### Test Data    \n",
        "str_columns_test = test.select_dtypes(include = 'object').columns\n",
        "str_columns_test\n",
        "for f in str_columns_test:\n",
        "    test[f] = le.fit_transform(list(test[f]))"
      ],
      "execution_count": 32,
      "outputs": [
        {
          "output_type": "execute_result",
          "data": {
            "text/plain": [
              "Index(['ProductCD', 'card4', 'card6', 'P_emaildomain', 'R_emaildomain', 'M1',\n",
              "       'M2', 'M3', 'M4', 'M5', 'M6', 'M7', 'M8', 'M9', 'id_12', 'id_15',\n",
              "       'id_16', 'id_23', 'id_27', 'id_28', 'id_29', 'id_30', 'id_31', 'id_34',\n",
              "       'id_35', 'id_36', 'id_37', 'id_38', 'DeviceType', 'DeviceInfo'],\n",
              "      dtype='object')"
            ]
          },
          "metadata": {
            "tags": []
          },
          "execution_count": 32
        },
        {
          "output_type": "execute_result",
          "data": {
            "text/plain": [
              "Index(['ProductCD', 'card4', 'card6', 'P_emaildomain', 'R_emaildomain', 'M1',\n",
              "       'M2', 'M3', 'M4', 'M5', 'M6', 'M7', 'M8', 'M9', 'id_12', 'id_15',\n",
              "       'id_16', 'id_23', 'id_27', 'id_28', 'id_29', 'id_30', 'id_31', 'id_34',\n",
              "       'id_35', 'id_36', 'id_37', 'id_38', 'DeviceType', 'DeviceInfo'],\n",
              "      dtype='object')"
            ]
          },
          "metadata": {
            "tags": []
          },
          "execution_count": 32
        }
      ]
    },
    {
      "cell_type": "code",
      "metadata": {
        "id": "EAEJimZEuSai",
        "colab_type": "code",
        "colab": {
          "base_uri": "https://localhost:8080/",
          "height": 34
        },
        "outputId": "b25d0376-e8c4-4d6d-c435-e14367322272"
      },
      "source": [
        "many_null_cols = [col for col in train.columns if train[col].isnull().sum() / train.shape[0] > 0.8]\n",
        "many_null_cols_test = [col for col in test.columns if test[col].isnull().sum() / test.shape[0] > 0.8]\n",
        "\n",
        "one_value_cols = [col for col in train.columns if train[col].nunique() <= 1]\n",
        "one_value_cols_test = [col for col in test.columns if test[col].nunique() <= 1]\n",
        "\n",
        "cols_to_drop = list(set(many_null_cols + many_null_cols_test + one_value_cols+ one_value_cols_test))\n",
        "# cols_to_drop.remove('isFraud')\n",
        "len(cols_to_drop)"
      ],
      "execution_count": 33,
      "outputs": [
        {
          "output_type": "execute_result",
          "data": {
            "text/plain": [
              "70"
            ]
          },
          "metadata": {
            "tags": []
          },
          "execution_count": 33
        }
      ]
    },
    {
      "cell_type": "code",
      "metadata": {
        "id": "iuH5CSm8uSak",
        "colab_type": "code",
        "colab": {}
      },
      "source": [
        "############### Dropping the columns with most data missing\n",
        "\n",
        "train = train.drop(cols_to_drop, axis=1)\n",
        "test = test.drop(cols_to_drop, axis=1)\n",
        "\n",
        "train = train.replace([np.inf, -np.inf], np.nan)\n",
        "test = test.replace([np.inf, -np.inf], np.nan)\n",
        "y_train = train['isFraud'].astype('uint8')"
      ],
      "execution_count": 0,
      "outputs": []
    },
    {
      "cell_type": "code",
      "metadata": {
        "id": "SQnYxVAEuSam",
        "colab_type": "code",
        "colab": {}
      },
      "source": [
        "train['TransactionAmt'] = np.log(train['TransactionAmt'])\n",
        "test['TransactionAmt'] = np.log(test['TransactionAmt'])"
      ],
      "execution_count": 0,
      "outputs": []
    },
    {
      "cell_type": "code",
      "metadata": {
        "scrolled": true,
        "id": "rwo0Z4hmuSao",
        "colab_type": "code",
        "colab": {}
      },
      "source": [
        "####### Function for PCA\n",
        "from sklearn.decomposition import PCA\n",
        "\n",
        "def PCA_change(df, cols, n_components, prefix='PCA_', rand_seed=4):\n",
        "    \n",
        "    pca = PCA(n_components=n_components, random_state=rand_seed)\n",
        "    \n",
        "    principalComponents = pca.fit_transform(df[cols])\n",
        "\n",
        "    principalDf = pd.DataFrame(principalComponents)\n",
        "\n",
        "    df.drop(cols, axis=1, inplace=True)\n",
        "\n",
        "    principalDf.rename(columns=lambda x: str(prefix)+str(x), inplace=True)\n",
        "\n",
        "    df = pd.concat([df, principalDf], axis=1)\n",
        "    \n",
        "    return df"
      ],
      "execution_count": 0,
      "outputs": []
    },
    {
      "cell_type": "code",
      "metadata": {
        "id": "HzyxKSVguSaq",
        "colab_type": "code",
        "colab": {
          "base_uri": "https://localhost:8080/",
          "height": 34
        },
        "outputId": "9e7fea6b-499c-44e2-a609-65c086ed7dca"
      },
      "source": [
        "############# Preprocessing Training data\n",
        "null_columns = [col for col in train.columns if train[col].isnull().sum() != 0]\n",
        "null_columns_test = [col for col in test.columns if test[col].isnull().sum() != 0]\n",
        "\n",
        "###### Calculating columns with missing values and performing PCA\n",
        "\n",
        "len(null_columns)\n",
        "train.shape\n",
        "\n",
        "from sklearn.preprocessing import minmax_scale\n",
        "train[null_columns] = train[null_columns].replace(np.nan,train[null_columns].mean())\n",
        "for col in null_columns:\n",
        "    train[col].fillna(train[col].mean(), inplace=True)\n",
        "    train[col] = (minmax_scale(train[col], feature_range=(0,1)))"
      ],
      "execution_count": 37,
      "outputs": [
        {
          "output_type": "execute_result",
          "data": {
            "text/plain": [
              "314"
            ]
          },
          "metadata": {
            "tags": []
          },
          "execution_count": 37
        },
        {
          "output_type": "execute_result",
          "data": {
            "text/plain": [
              "(590540, 365)"
            ]
          },
          "metadata": {
            "tags": []
          },
          "execution_count": 37
        }
      ]
    },
    {
      "cell_type": "code",
      "metadata": {
        "id": "No4SMZTAuSas",
        "colab_type": "code",
        "colab": {
          "base_uri": "https://localhost:8080/",
          "height": 34
        },
        "outputId": "5652f2ad-439e-4b55-dade-8afb63ce4373"
      },
      "source": [
        "############# Preprocessing Test data\n",
        "\n",
        "len(null_columns_test)\n",
        "from sklearn.preprocessing import minmax_scale\n",
        "test[null_columns_test] = test[null_columns_test].replace(np.nan,test[null_columns_test].mean())\n",
        "for col in null_columns_test:\n",
        "    test[col].fillna(test[col].mean(), inplace=True)\n",
        "    test[col] = (minmax_scale(test[col], feature_range=(0,1)))\n",
        "test.shape"
      ],
      "execution_count": 38,
      "outputs": [
        {
          "output_type": "execute_result",
          "data": {
            "text/plain": [
              "286"
            ]
          },
          "metadata": {
            "tags": []
          },
          "execution_count": 38
        },
        {
          "output_type": "execute_result",
          "data": {
            "text/plain": [
              "(506691, 364)"
            ]
          },
          "metadata": {
            "tags": []
          },
          "execution_count": 38
        }
      ]
    },
    {
      "cell_type": "code",
      "metadata": {
        "scrolled": true,
        "id": "NmnsIugkuSau",
        "colab_type": "code",
        "colab": {
          "base_uri": "https://localhost:8080/",
          "height": 34
        },
        "outputId": "6f7fa7cd-80b4-4ab9-b268-2f01cec4e52b"
      },
      "source": [
        "############## Applying PCA on training data\n",
        "null_cols = list(set(null_columns + null_columns_test))\n",
        "len(null_cols)\n",
        "\n",
        "train = PCA_change(train,null_cols,30)\n",
        "\n",
        "\n",
        "# null_columns = [col for col in train.columns if train[col].isnull().sum() != 0]\n",
        "len([col for col in train.columns if train[col].isnull().sum() != 0])\n",
        "train.shape\n",
        "\n"
      ],
      "execution_count": 39,
      "outputs": [
        {
          "output_type": "execute_result",
          "data": {
            "text/plain": [
              "328"
            ]
          },
          "metadata": {
            "tags": []
          },
          "execution_count": 39
        },
        {
          "output_type": "execute_result",
          "data": {
            "text/plain": [
              "0"
            ]
          },
          "metadata": {
            "tags": []
          },
          "execution_count": 39
        },
        {
          "output_type": "execute_result",
          "data": {
            "text/plain": [
              "(590540, 67)"
            ]
          },
          "metadata": {
            "tags": []
          },
          "execution_count": 39
        }
      ]
    },
    {
      "cell_type": "code",
      "metadata": {
        "id": "6e8w_So6uSaw",
        "colab_type": "code",
        "colab": {
          "base_uri": "https://localhost:8080/",
          "height": 34
        },
        "outputId": "3f4018a0-36fe-4802-92e4-2a32c062da4e"
      },
      "source": [
        "############## Applying PCA on test data\n",
        "\n",
        "test = PCA_change(test,null_cols,30)\n",
        "\n",
        "len([col for col in test.columns if test[col].isnull().sum() != 0])\n",
        "test.shape"
      ],
      "execution_count": 40,
      "outputs": [
        {
          "output_type": "execute_result",
          "data": {
            "text/plain": [
              "0"
            ]
          },
          "metadata": {
            "tags": []
          },
          "execution_count": 40
        },
        {
          "output_type": "execute_result",
          "data": {
            "text/plain": [
              "(506691, 66)"
            ]
          },
          "metadata": {
            "tags": []
          },
          "execution_count": 40
        }
      ]
    },
    {
      "cell_type": "code",
      "metadata": {
        "scrolled": true,
        "id": "iLZZGk0OuSax",
        "colab_type": "code",
        "colab": {}
      },
      "source": [
        "############ Recursive Features Elimination (RFE) ##################\n",
        "\n",
        "# from sklearn.svm import SVC\n",
        "# from sklearn.datasets import make_classification\n",
        "\n",
        "# from yellowbrick.model_selection import RFECV\n",
        "\n",
        "\n",
        "############ Instantiate RFECV visualizer with a linear SVM classifier\n",
        "# visualizer = RFECV(SVC(kernel='linear', C=1))\n",
        "# visualizer.fit(X_train, y_train)        # Fit the data to the visualizer\n",
        "# print('SVC RFE')\n",
        "# visualizer.show()           # Finalize and render the figure\n",
        "\n",
        "\n",
        "############ Using Random Forest to determine the feature importance\n",
        "# cv = StratifiedKFold(5)\n",
        "# visualizer = RFECV(RandomForestClassifier(), cv=cv, scoring='f1_weighted')\n",
        "\n",
        "# visualizer.fit(X_train, y_train)        # Fit the data to the visualizer\n",
        "# print('Random Forrest RFE')\n",
        "# visualizer.show()           # Finalize and render the figure"
      ],
      "execution_count": 0,
      "outputs": []
    },
    {
      "cell_type": "code",
      "metadata": {
        "id": "eBbDT1yduSaz",
        "colab_type": "code",
        "colab": {
          "base_uri": "https://localhost:8080/",
          "height": 68
        },
        "outputId": "6551fd0c-d450-4477-e44a-82d58b318378"
      },
      "source": [
        "############ Dividing the train data into train(80%) and validation(20%) sets #########\n",
        "\n",
        "from sklearn.model_selection import train_test_split\n",
        "X_train,X_test,y_train,y_test=train_test_split(train.drop('isFraud',axis=1),y_train,test_size=.2,random_state=1)\n",
        "print('Train set: ',X_train.shape, y_train.shape, '\\nValidation set: ',X_test.shape,y_test.shape)\n",
        "print('Test set :', test.shape)\n",
        "\n",
        "# print(X_train.columns)"
      ],
      "execution_count": 43,
      "outputs": [
        {
          "output_type": "stream",
          "text": [
            "Train set:  (472432, 66) (472432,) \n",
            "Validation set:  (118108, 66) (118108,)\n",
            "Test set : (506691, 66)\n"
          ],
          "name": "stdout"
        }
      ]
    },
    {
      "cell_type": "code",
      "metadata": {
        "id": "V9PEZOe6uSa0",
        "colab_type": "code",
        "colab": {}
      },
      "source": [
        "############ Adding DOW and hour to the train data ###############\n",
        "\n",
        "X_train['transaction_day_of_week'] = np.floor((X_train['TransactionDT'] / (3600 * 24) - 1) % 7)\n",
        "X_train['transaction_hour'] = np.floor(X_train['TransactionDT'] / 3600) % 24\n",
        "\n",
        "X_test['transaction_day_of_week'] = np.floor((X_test['TransactionDT'] / (3600 * 24) - 1) % 7)\n",
        "X_test['transaction_hour'] = np.floor(X_test['TransactionDT'] / 3600) % 24"
      ],
      "execution_count": 0,
      "outputs": []
    },
    {
      "cell_type": "code",
      "metadata": {
        "id": "Dn9JTc-YuSa6",
        "colab_type": "code",
        "colab": {}
      },
      "source": [
        "############ Adding DOW and hour to the test data ###############\n",
        "\n",
        "test['transaction_day_of_week'] = np.floor((test['TransactionDT'] / (3600 * 24) - 1) % 7)\n",
        "test['transaction_hour'] = np.floor(test['TransactionDT'] / 3600) % 24\n",
        "\n",
        "test['transaction_day_of_week'] = np.floor((test['TransactionDT'] / (3600 * 24) - 1) % 7)\n",
        "test['transaction_hour'] = np.floor(test['TransactionDT'] / 3600) % 24"
      ],
      "execution_count": 0,
      "outputs": []
    },
    {
      "cell_type": "code",
      "metadata": {
        "id": "NsOmGLSmuSa8",
        "colab_type": "code",
        "colab": {}
      },
      "source": [
        "############# Dealing imbalanced dataset by using SMOTE (Optional)\n",
        "\n",
        "# from imblearn.over_sampling import SMOTE\n",
        "\n",
        "# smote = SMOTE(ratio='minority')\n",
        "# X_sm, y_sm = smote.fit_sample(X, y)\n",
        "\n",
        "# plot_2d_space(X_sm, y_sm,X,y, 'SMOTE over-sampling')"
      ],
      "execution_count": 0,
      "outputs": []
    },
    {
      "cell_type": "markdown",
      "metadata": {
        "id": "mrJkZST0uSa-",
        "colab_type": "text"
      },
      "source": [
        "# Building XG Boost Model"
      ]
    },
    {
      "cell_type": "code",
      "metadata": {
        "scrolled": false,
        "id": "pcW9Yr8BuSa_",
        "colab_type": "code",
        "colab": {
          "base_uri": "https://localhost:8080/",
          "height": 289
        },
        "outputId": "60737c93-bd98-4720-a2a8-cf0a5827a7ba"
      },
      "source": [
        "############### Modelling XG BOOST ###############\n",
        "\n",
        "%%time\n",
        "NFOLDS = 5\n",
        "kf = StratifiedKFold(n_splits=NFOLDS, shuffle=True, random_state=123)\n",
        "\n",
        "y_preds = np.zeros(test.shape[0])\n",
        "y_oof = np.zeros(X_train.shape[0])\n",
        "score = 0\n",
        "  \n",
        "for fold, (tr_idx, val_idx) in enumerate(kf.split(X_train, y_train)):\n",
        "    clf = xgb.XGBClassifier(\n",
        "        n_estimators=500,\n",
        "        max_depth=9,\n",
        "        learning_rate=0.05,\n",
        "        subsample=0.9,\n",
        "        colsample_bytree=0.9,\n",
        "        gamma = 0.2,\n",
        "        alpha = 4,\n",
        "#         missing = 'NAN',\n",
        "        tree_method='gpu_hist'\n",
        "    )\n",
        "    \n",
        "    X_tr, X_vl = X_train.iloc[tr_idx, :], X_train.iloc[val_idx, :]\n",
        "    y_tr, y_vl = y_train.iloc[tr_idx], y_train.iloc[val_idx]\n",
        "    clf.fit(X_tr, y_tr)\n",
        "    y_pred_train = clf.predict_proba(X_vl)[:,1]\n",
        "    y_oof[val_idx] = y_pred_train\n",
        "    print(\"\\nFOLD: \",fold,' AUC {}'.format(roc_auc_score(y_vl, y_pred_train)))\n",
        "    score += roc_auc_score(y_vl, y_pred_train) / NFOLDS\n",
        "    y_preds+= clf.predict_proba(test)[:,1] / NFOLDS\n",
        "    \n",
        "    del X_tr, X_vl, y_tr, y_vl\n",
        "    gc.collect()\n",
        "    \n",
        "    \n",
        "print(\"\\nMEAN AUC = {}\".format(score))\n",
        "print(\"\\nOOF AUC = {}\".format(roc_auc_score(y_train, y_oof)))"
      ],
      "execution_count": 48,
      "outputs": [
        {
          "output_type": "stream",
          "text": [
            "\n",
            "FOLD:  0  AUC 0.957932888821489\n",
            "\n",
            "FOLD:  1  AUC 0.960016506991774\n",
            "\n",
            "FOLD:  2  AUC 0.9615124562313129\n",
            "\n",
            "FOLD:  3  AUC 0.9590563801058569\n",
            "\n",
            "FOLD:  4  AUC 0.9580184828334106\n",
            "\n",
            "MEAN AUC = 0.9593073429967687\n",
            "\n",
            "OOF AUC = 0.9593021426849321\n",
            "CPU times: user 19min 31s, sys: 14min, total: 33min 32s\n",
            "Wall time: 33min 34s\n"
          ],
          "name": "stdout"
        }
      ]
    },
    {
      "cell_type": "code",
      "metadata": {
        "id": "61IuUawduSbB",
        "colab_type": "code",
        "colab": {
          "base_uri": "https://localhost:8080/",
          "height": 235
        },
        "outputId": "a6a53dcd-0025-4025-ab81-160ebe208dce"
      },
      "source": [
        "############## Choosing the best iteration and predicting for Test set using XGB Classifier\n",
        "\n",
        "# sub = pd.read_csv('./sample_submission.csv', index_col='TransactionID')\n",
        "sub = pd.read_csv('/content/ieee-fraud-detection/sample_submission.csv', index_col='TransactionID')\n",
        "sub['isFraud'] = y_preds\n",
        "sub.to_csv('/content/ieee-fraud-detection/submission_xgboost.csv')\n",
        "sub.head()"
      ],
      "execution_count": 49,
      "outputs": [
        {
          "output_type": "execute_result",
          "data": {
            "text/html": [
              "<div>\n",
              "<style scoped>\n",
              "    .dataframe tbody tr th:only-of-type {\n",
              "        vertical-align: middle;\n",
              "    }\n",
              "\n",
              "    .dataframe tbody tr th {\n",
              "        vertical-align: top;\n",
              "    }\n",
              "\n",
              "    .dataframe thead th {\n",
              "        text-align: right;\n",
              "    }\n",
              "</style>\n",
              "<table border=\"1\" class=\"dataframe\">\n",
              "  <thead>\n",
              "    <tr style=\"text-align: right;\">\n",
              "      <th></th>\n",
              "      <th>isFraud</th>\n",
              "    </tr>\n",
              "    <tr>\n",
              "      <th>TransactionID</th>\n",
              "      <th></th>\n",
              "    </tr>\n",
              "  </thead>\n",
              "  <tbody>\n",
              "    <tr>\n",
              "      <th>3663549</th>\n",
              "      <td>0.189748</td>\n",
              "    </tr>\n",
              "    <tr>\n",
              "      <th>3663550</th>\n",
              "      <td>0.009383</td>\n",
              "    </tr>\n",
              "    <tr>\n",
              "      <th>3663551</th>\n",
              "      <td>0.045498</td>\n",
              "    </tr>\n",
              "    <tr>\n",
              "      <th>3663552</th>\n",
              "      <td>0.188801</td>\n",
              "    </tr>\n",
              "    <tr>\n",
              "      <th>3663553</th>\n",
              "      <td>0.040186</td>\n",
              "    </tr>\n",
              "  </tbody>\n",
              "</table>\n",
              "</div>"
            ],
            "text/plain": [
              "                isFraud\n",
              "TransactionID          \n",
              "3663549        0.189748\n",
              "3663550        0.009383\n",
              "3663551        0.045498\n",
              "3663552        0.188801\n",
              "3663553        0.040186"
            ]
          },
          "metadata": {
            "tags": []
          },
          "execution_count": 49
        }
      ]
    },
    {
      "cell_type": "code",
      "metadata": {
        "id": "yFrcWHEOuSbD",
        "colab_type": "code",
        "colab": {}
      },
      "source": [
        "############# Pickling the XG Boost model\n",
        "\n",
        "import pickle,gzip\n",
        "with gzip.open('/content/ieee-fraud-detection/best_model_XGBoost', 'wb') as f:\n",
        "    pickle.dump(clf, f)\n",
        "    \n",
        "############# Loading model\n",
        "# with gzip.open('/content/ieee-fraud-detection/best_model_XGBoost', 'rb') as f:\n",
        "#     clf_loaded = pickle.load(f)\n",
        "# clf_loaded"
      ],
      "execution_count": 0,
      "outputs": []
    },
    {
      "cell_type": "markdown",
      "metadata": {
        "id": "NmavofVMuSbF",
        "colab_type": "text"
      },
      "source": [
        "# Building LGBM Model"
      ]
    },
    {
      "cell_type": "code",
      "metadata": {
        "id": "NaIcQnfxuSbG",
        "colab_type": "code",
        "colab": {}
      },
      "source": [
        "params = {'num_leaves': 491,\n",
        "          'min_child_weight': 0.03454472573214212,\n",
        "          'feature_fraction': 0.3797454081646243,\n",
        "          'bagging_fraction': 0.4181193142567742,\n",
        "          'min_data_in_leaf': 106,\n",
        "          'objective': 'binary',\n",
        "          'max_depth': -1,\n",
        "          'learning_rate': 0.006883242363721497,\n",
        "          \"boosting_type\": \"gbdt\",\n",
        "          \"bagging_seed\": 11,\n",
        "          \"metric\": 'auc',\n",
        "          \"verbosity\": -1,\n",
        "          'reg_alpha': 0.3899927210061127,\n",
        "          'reg_lambda': 0.6485237330340494,\n",
        "          'random_state': 47,\n",
        "#           'device_type': 'gpu'\n",
        "         }"
      ],
      "execution_count": 0,
      "outputs": []
    },
    {
      "cell_type": "code",
      "metadata": {
        "id": "3dxo5mJkH6Qs",
        "colab_type": "code",
        "colab": {
          "base_uri": "https://localhost:8080/",
          "height": 51
        },
        "outputId": "361cd726-625c-4723-c88e-eb78dfb327c5"
      },
      "source": [
        "# !git clone --recursive https://github.com/microsoft/LightGBM ; cd LightGBM\n",
        "# !mkdir build ; cd build\n",
        "# !cmake -DUSE_GPU=1 ..\n",
        "!cmake -DUSE_GPU=1 -DOpenCL_LIBRARY=/usr/local/cuda/lib64/libOpenCL.so -DOpenCL_INCLUDE_DIR=/usr/local/cuda/include/"
      ],
      "execution_count": 52,
      "outputs": [
        {
          "output_type": "stream",
          "text": [
            "CMake Error: The source directory \"/content/ieee-fraud-detection\" does not appear to contain CMakeLists.txt.\n",
            "Specify --help for usage, or press the help button on the CMake GUI.\n"
          ],
          "name": "stdout"
        }
      ]
    },
    {
      "cell_type": "code",
      "metadata": {
        "id": "dr17eeqouSbJ",
        "colab_type": "code",
        "colab": {
          "base_uri": "https://localhost:8080/",
          "height": 731
        },
        "outputId": "ec77805f-192f-4601-cada-6610e90ef981"
      },
      "source": [
        "################# LGBM Modelling ####################\n",
        "\n",
        "folds = TimeSeriesSplit(n_splits=5)\n",
        "\n",
        "aucs = list()\n",
        "feature_importances = pd.DataFrame()\n",
        "feature_importances['feature'] = X_train.columns\n",
        "\n",
        "training_start_time = time()\n",
        "for fold, (trn_idx, test_idx) in enumerate(folds.split(X_train, y_train)):\n",
        "    start_time = time()\n",
        "    print('Training on fold {}'.format(fold + 1))\n",
        "#     X_train,X_test,y_train,y_test\n",
        "    trn_data = lgb.Dataset(X_train.iloc[trn_idx], label=y_train.iloc[trn_idx])\n",
        "    val_data = lgb.Dataset(X_train.iloc[test_idx], label=y_train.iloc[test_idx])\n",
        "    clf = lgb.train(params, trn_data, 10000, valid_sets = [trn_data, val_data], verbose_eval=1000, early_stopping_rounds=500)\n",
        "    \n",
        "    feature_importances['fold_{}'.format(fold + 1)] = clf.feature_importance()\n",
        "    aucs.append(clf.best_score['valid_1']['auc'])\n",
        "    \n",
        "    print('Fold {} finished in {}'.format(fold + 1, str(datetime.timedelta(seconds=time() - start_time))))\n",
        "print('-' * 30)\n",
        "print('Training has finished.')\n",
        "print('Total training time is {}'.format(str(datetime.timedelta(seconds=time() - training_start_time))))\n",
        "print('Mean AUC:', np.mean(aucs))\n",
        "print('-' * 30)"
      ],
      "execution_count": 53,
      "outputs": [
        {
          "output_type": "stream",
          "text": [
            "Training on fold 1\n",
            "Training until validation scores don't improve for 500 rounds.\n",
            "[1000]\ttraining's auc: 0.99997\tvalid_1's auc: 0.9174\n",
            "[2000]\ttraining's auc: 1\tvalid_1's auc: 0.918088\n",
            "Early stopping, best iteration is:\n",
            "[1519]\ttraining's auc: 1\tvalid_1's auc: 0.918076\n",
            "Fold 1 finished in 0:02:37.218953\n",
            "Training on fold 2\n",
            "Training until validation scores don't improve for 500 rounds.\n",
            "[1000]\ttraining's auc: 0.999938\tvalid_1's auc: 0.940821\n",
            "[2000]\ttraining's auc: 1\tvalid_1's auc: 0.942393\n",
            "Early stopping, best iteration is:\n",
            "[1808]\ttraining's auc: 1\tvalid_1's auc: 0.942395\n",
            "Fold 2 finished in 0:05:17.266144\n",
            "Training on fold 3\n",
            "Training until validation scores don't improve for 500 rounds.\n",
            "[1000]\ttraining's auc: 0.9997\tvalid_1's auc: 0.946392\n",
            "[2000]\ttraining's auc: 1\tvalid_1's auc: 0.94863\n",
            "Early stopping, best iteration is:\n",
            "[2030]\ttraining's auc: 1\tvalid_1's auc: 0.948666\n",
            "Fold 3 finished in 0:08:03.052428\n",
            "Training on fold 4\n",
            "Training until validation scores don't improve for 500 rounds.\n",
            "[1000]\ttraining's auc: 0.999116\tvalid_1's auc: 0.955042\n",
            "[2000]\ttraining's auc: 0.999998\tvalid_1's auc: 0.959102\n",
            "[3000]\ttraining's auc: 1\tvalid_1's auc: 0.959491\n",
            "Early stopping, best iteration is:\n",
            "[2573]\ttraining's auc: 1\tvalid_1's auc: 0.959589\n",
            "Fold 4 finished in 0:12:20.951034\n",
            "Training on fold 5\n",
            "Training until validation scores don't improve for 500 rounds.\n",
            "[1000]\ttraining's auc: 0.998118\tvalid_1's auc: 0.95992\n",
            "[2000]\ttraining's auc: 0.999985\tvalid_1's auc: 0.965264\n",
            "[3000]\ttraining's auc: 1\tvalid_1's auc: 0.96597\n",
            "Early stopping, best iteration is:\n",
            "[2669]\ttraining's auc: 1\tvalid_1's auc: 0.966045\n",
            "Fold 5 finished in 0:15:24.547943\n",
            "------------------------------\n",
            "Training has finished.\n",
            "Total training time is 0:43:43.041597\n",
            "Mean AUC: 0.9469541617136981\n",
            "------------------------------\n"
          ],
          "name": "stdout"
        }
      ]
    },
    {
      "cell_type": "code",
      "metadata": {
        "scrolled": false,
        "id": "rULKmU9GuSbM",
        "colab_type": "code",
        "colab": {
          "base_uri": "https://localhost:8080/",
          "height": 1000
        },
        "outputId": "0cf3e366-8ecd-408b-c27a-ed739df08575"
      },
      "source": [
        "feature_importances['average'] = feature_importances[['fold_{}'.format(fold + 1) for fold in range(folds.n_splits)]].mean(axis=1)\n",
        "feature_importances.to_csv('feature_importances.csv')\n",
        "\n",
        "plt.figure(figsize=(16, 16))\n",
        "sns.barplot(data=feature_importances.sort_values(by='average', ascending=False).head(50), x='average', y='feature');\n",
        "plt.title('50 TOP feature importance over {} folds average'.format(folds.n_splits))\n"
      ],
      "execution_count": 54,
      "outputs": [
        {
          "output_type": "execute_result",
          "data": {
            "text/plain": [
              "<Figure size 1152x1152 with 0 Axes>"
            ]
          },
          "metadata": {
            "tags": []
          },
          "execution_count": 54
        },
        {
          "output_type": "execute_result",
          "data": {
            "text/plain": [
              "<matplotlib.axes._subplots.AxesSubplot at 0x7fc585fbae80>"
            ]
          },
          "metadata": {
            "tags": []
          },
          "execution_count": 54
        },
        {
          "output_type": "execute_result",
          "data": {
            "text/plain": [
              "Text(0.5, 1.0, '50 TOP feature importance over 5 folds average')"
            ]
          },
          "metadata": {
            "tags": []
          },
          "execution_count": 54
        },
        {
          "output_type": "display_data",
          "data": {
            "image/png": "[encoded data removed]",
            "text/plain": [
              "<Figure size 1152x1152 with 1 Axes>"
            ]
          },
          "metadata": {
            "tags": []
          }
        }
      ]
    },
    {
      "cell_type": "code",
      "metadata": {
        "id": "eYLRkkHquSbS",
        "colab_type": "code",
        "colab": {
          "base_uri": "https://localhost:8080/",
          "height": 272
        },
        "outputId": "f42b94d1-a84e-4123-8d71-41b7a6074e04"
      },
      "source": [
        "############## Choosing the best iteration and predicting for Test set using LGBM\n",
        "clf\n",
        "best_iter = clf.best_iteration\n",
        "clf = lgb.LGBMClassifier(**params, num_boost_round=best_iter)\n",
        "clf.fit(X_train, y_train)\n",
        "sub = pd.read_csv('/content/ieee-fraud-detection/sample_submission.csv')\n",
        "sub['isFraud'] = clf.predict_proba(test)[:, 1]\n",
        "sub.to_csv('/content/ieee-fraud-detection/submission_LGBM.csv', index=False)"
      ],
      "execution_count": 55,
      "outputs": [
        {
          "output_type": "execute_result",
          "data": {
            "text/plain": [
              "<lightgbm.basic.Booster at 0x7fc58b431940>"
            ]
          },
          "metadata": {
            "tags": []
          },
          "execution_count": 55
        },
        {
          "output_type": "stream",
          "text": [
            "/usr/local/lib/python3.6/dist-packages/lightgbm/engine.py:118: UserWarning:\n",
            "\n",
            "Found `num_boost_round` in params. Will use it instead of argument\n",
            "\n"
          ],
          "name": "stderr"
        },
        {
          "output_type": "execute_result",
          "data": {
            "text/plain": [
              "LGBMClassifier(bagging_fraction=0.4181193142567742, bagging_seed=11,\n",
              "               boosting_type='gbdt', class_weight=None, colsample_bytree=1.0,\n",
              "               feature_fraction=0.3797454081646243, importance_type='split',\n",
              "               learning_rate=0.006883242363721497, max_depth=-1, metric='auc',\n",
              "               min_child_samples=20, min_child_weight=0.03454472573214212,\n",
              "               min_data_in_leaf=106, min_split_gain=0.0, n_estimators=100,\n",
              "               n_jobs=-1, num_boost_round=2669, num_leaves=491,\n",
              "               objective='binary', random_state=47,\n",
              "               reg_alpha=0.3899927210061127, reg_lambda=0.6485237330340494,\n",
              "               silent=True, subsample=1.0, subsample_for_bin=200000,\n",
              "               subsample_freq=0, verbosity=-1)"
            ]
          },
          "metadata": {
            "tags": []
          },
          "execution_count": 55
        }
      ]
    },
    {
      "cell_type": "code",
      "metadata": {
        "id": "Gw_QIsyUuSbU",
        "colab_type": "code",
        "colab": {}
      },
      "source": [
        "############# Pickling the XG Boost model\n",
        "\n",
        "import pickle\n",
        "with gzip.open('/content/ieee-fraud-detection/best_model_LGBM', 'wb') as f:\n",
        "    pickle.dump(clf, f)\n",
        "    \n",
        "# ############# Loading model\n",
        "# with gzip.open('best_model_LGBM', 'rb') as f:\n",
        "#     clf_loaded = pickle.load(f)\n",
        "# clf_loaded"
      ],
      "execution_count": 0,
      "outputs": []
    },
    {
      "cell_type": "code",
      "metadata": {
        "id": "052my8DYuSbW",
        "colab_type": "code",
        "colab": {}
      },
      "source": [
        ""
      ],
      "execution_count": 0,
      "outputs": []
    },
    {
      "cell_type": "code",
      "metadata": {
        "id": "ymxUjq_MuSbX",
        "colab_type": "code",
        "colab": {}
      },
      "source": [
        ""
      ],
      "execution_count": 0,
      "outputs": []
    },
    {
      "cell_type": "code",
      "metadata": {
        "id": "-CX0Dk-GuSbZ",
        "colab_type": "code",
        "colab": {}
      },
      "source": [
        ""
      ],
      "execution_count": 0,
      "outputs": []
    },
    {
      "cell_type": "code",
      "metadata": {
        "id": "0LS_SPtFuSba",
        "colab_type": "code",
        "colab": {}
      },
      "source": [
        ""
      ],
      "execution_count": 0,
      "outputs": []
    },
    {
      "cell_type": "code",
      "metadata": {
        "id": "1vTBFyzquSbc",
        "colab_type": "code",
        "colab": {}
      },
      "source": [
        ""
      ],
      "execution_count": 0,
      "outputs": []
    },
    {
      "cell_type": "code",
      "metadata": {
        "id": "QfVEP7xVuSbf",
        "colab_type": "code",
        "colab": {
          "base_uri": "https://localhost:8080/",
          "height": 248
        },
        "outputId": "40afd86b-14c9-4ffc-8c6e-fea7c3063da0"
      },
      "source": [
        "########### Keras data preparation\n",
        "\n",
        "X_train.shape,X_test.shape,y_train.shape,y_test.shape\n",
        "\n",
        "(np.array(X_train)).shape\n",
        "y_train.unique()\n",
        "\n",
        "def format_to_3d_x(df):\n",
        "    X = np.array(df)\n",
        "    return np.reshape(X, (X.shape[0], 1, X.shape[1]))\n",
        "\n",
        "def format_to_3d_y(df):\n",
        "    X = np.array(df)\n",
        "    return to_categorical(X,2)\n",
        "\n",
        "k_X_train = format_to_3d(X_train)\n",
        "k_X_test = format_to_3d(X_test)\n",
        "k_y_train = format_to_3d_y(y_train)\n",
        "k_y_test = format_to_3d_y(y_test)"
      ],
      "execution_count": 57,
      "outputs": [
        {
          "output_type": "execute_result",
          "data": {
            "text/plain": [
              "((472432, 68), (118108, 68), (472432,), (118108,))"
            ]
          },
          "metadata": {
            "tags": []
          },
          "execution_count": 57
        },
        {
          "output_type": "execute_result",
          "data": {
            "text/plain": [
              "(472432, 68)"
            ]
          },
          "metadata": {
            "tags": []
          },
          "execution_count": 57
        },
        {
          "output_type": "execute_result",
          "data": {
            "text/plain": [
              "array([0, 1], dtype=uint64)"
            ]
          },
          "metadata": {
            "tags": []
          },
          "execution_count": 57
        },
        {
          "output_type": "error",
          "ename": "NameError",
          "evalue": "ignored",
          "traceback": [
            "\u001b[0;31m---------------------------------------------------------------------------\u001b[0m",
            "\u001b[0;31mNameError\u001b[0m                                 Traceback (most recent call last)",
            "\u001b[0;32m<ipython-input-57-bd69ebc855ed>\u001b[0m in \u001b[0;36m<module>\u001b[0;34m()\u001b[0m\n\u001b[1;32m     13\u001b[0m     \u001b[0;32mreturn\u001b[0m \u001b[0mto_categorical\u001b[0m\u001b[0;34m(\u001b[0m\u001b[0mX\u001b[0m\u001b[0;34m,\u001b[0m\u001b[0;36m2\u001b[0m\u001b[0;34m)\u001b[0m\u001b[0;34m\u001b[0m\u001b[0;34m\u001b[0m\u001b[0m\n\u001b[1;32m     14\u001b[0m \u001b[0;34m\u001b[0m\u001b[0m\n\u001b[0;32m---> 15\u001b[0;31m \u001b[0mk_X_train\u001b[0m \u001b[0;34m=\u001b[0m \u001b[0mformat_to_3d\u001b[0m\u001b[0;34m(\u001b[0m\u001b[0mX_train\u001b[0m\u001b[0;34m)\u001b[0m\u001b[0;34m\u001b[0m\u001b[0;34m\u001b[0m\u001b[0m\n\u001b[0m\u001b[1;32m     16\u001b[0m \u001b[0mk_X_test\u001b[0m \u001b[0;34m=\u001b[0m \u001b[0mformat_to_3d\u001b[0m\u001b[0;34m(\u001b[0m\u001b[0mX_test\u001b[0m\u001b[0;34m)\u001b[0m\u001b[0;34m\u001b[0m\u001b[0;34m\u001b[0m\u001b[0m\n\u001b[1;32m     17\u001b[0m \u001b[0mk_y_train\u001b[0m \u001b[0;34m=\u001b[0m \u001b[0mformat_to_3d_y\u001b[0m\u001b[0;34m(\u001b[0m\u001b[0my_train\u001b[0m\u001b[0;34m)\u001b[0m\u001b[0;34m\u001b[0m\u001b[0;34m\u001b[0m\u001b[0m\n",
            "\u001b[0;31mNameError\u001b[0m: name 'format_to_3d' is not defined"
          ]
        }
      ]
    },
    {
      "cell_type": "code",
      "metadata": {
        "scrolled": false,
        "id": "AglDRmo5uSbh",
        "colab_type": "code",
        "colab": {}
      },
      "source": [
        "################ Implementing Keras model #############\n",
        "\n",
        "from keras.models import Sequential\n",
        "from keras.layers import Dense\n",
        "from keras.optimizers import SGD\n",
        "from keras.layers import Flatten,Dense,Dropout\n",
        "from keras.datasets import mnist\n",
        "from keras.losses import categorical_crossentropy,binary_crossentropy\n",
        "from keras.utils import to_categorical\n",
        "from keras.activations import relu,softmax,sigmoid\n",
        "\n",
        "model = Sequential()\n",
        "model.add(Flatten())\n",
        "model.add(Dense(256,activation='sigmoid',input_shape=(80,)))\n",
        "model.add(Dense(1, activation='softmax'))\n",
        "\n",
        "model.compile(loss=binary_crossentropy,optimizer=SGD(), metrics=['accuracy'])\n",
        "\n",
        "model.fit(format_to_3d_x(X_train), np.array(y_train),verbose=0, batch_size=128, epochs=10, validation_data=(format_to_3d_x(X_test),np.array(y_test)))"
      ],
      "execution_count": 0,
      "outputs": []
    },
    {
      "cell_type": "code",
      "metadata": {
        "id": "OyQ3kHFDuSbi",
        "colab_type": "code",
        "colab": {}
      },
      "source": [
        "model.summary()\n",
        "score = model.evaluate(format_to_3d_x(X_test),np.array(y_test),verbose=0,batch_size=32)\n",
        "print('Test Loss:',score[0] )\n",
        "print('Test Accuracy:',score[1] )"
      ],
      "execution_count": 0,
      "outputs": []
    },
    {
      "cell_type": "code",
      "metadata": {
        "id": "nCBxeiUQuSbk",
        "colab_type": "code",
        "colab": {}
      },
      "source": [
        ""
      ],
      "execution_count": 0,
      "outputs": []
    },
    {
      "cell_type": "code",
      "metadata": {
        "id": "DIIFv999uSbm",
        "colab_type": "code",
        "colab": {}
      },
      "source": [
        "model = Sequential()\n",
        "model.add(Embedding(max_features,128))\n",
        "model.add(LSTM(128,dropout=0.2,recurrent_dropout=0.2))\n",
        "model.add(Dense(1,activation=sigmoid))\n",
        "\n",
        "model.compile(loss=binary_crossentropy,optimizer=SGD(),metrics=['accuracy'])\n",
        "model.fit(x_train, y_train, batch_size=32, epochs=15, validation_data=(x_test,y_test))\n",
        "model.evaluate(x_test,y_test,batch_size=32)"
      ],
      "execution_count": 0,
      "outputs": []
    }
  ]
}